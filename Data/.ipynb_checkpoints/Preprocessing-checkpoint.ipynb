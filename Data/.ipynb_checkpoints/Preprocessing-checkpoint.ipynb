{
 "cells": [
  {
   "cell_type": "code",
   "execution_count": 83,
   "id": "kYAv3KGgZV60",
   "metadata": {
    "colab": {
     "base_uri": "https://localhost:8080/"
    },
    "executionInfo": {
     "elapsed": 7071,
     "status": "ok",
     "timestamp": 1638858559633,
     "user": {
      "displayName": "PARESH CHAUDHARI",
      "photoUrl": "https://lh3.googleusercontent.com/a-/AOh14GgHEN2974O1ec2_7AW7aAev1MA2cjhyjrfmx-n8Fw=s64",
      "userId": "13612978007001828393"
     },
     "user_tz": -330
    },
    "id": "kYAv3KGgZV60",
    "outputId": "1afac151-35bd-48c1-8b9a-80990d024523"
   },
   "outputs": [
    {
     "name": "stdout",
     "output_type": "stream",
     "text": [
      "Requirement already satisfied: nltk in /usr/local/lib/python3.7/dist-packages (3.2.5)\n",
      "Requirement already satisfied: six in /usr/local/lib/python3.7/dist-packages (from nltk) (1.15.0)\n",
      "Requirement already satisfied: pyspellchecker in /usr/local/lib/python3.7/dist-packages (0.6.2)\n"
     ]
    }
   ],
   "source": [
    "!pip install nltk\n",
    "!pip install pyspellchecker"
   ]
  },
  {
   "cell_type": "code",
   "execution_count": 84,
   "id": "transparent-newfoundland",
   "metadata": {
    "executionInfo": {
     "elapsed": 32,
     "status": "ok",
     "timestamp": 1638858559634,
     "user": {
      "displayName": "PARESH CHAUDHARI",
      "photoUrl": "https://lh3.googleusercontent.com/a-/AOh14GgHEN2974O1ec2_7AW7aAev1MA2cjhyjrfmx-n8Fw=s64",
      "userId": "13612978007001828393"
     },
     "user_tz": -330
    },
    "id": "transparent-newfoundland"
   },
   "outputs": [],
   "source": [
    "# Importing Libraries\n",
    "import numpy as np\n",
    "import pandas as pd\n",
    "import nltk\n",
    "from nltk.tokenize import word_tokenize\n",
    "from nltk.corpus import stopwords\n",
    "from nltk.stem import WordNetLemmatizer\n",
    "from spellchecker import SpellChecker"
   ]
  },
  {
   "cell_type": "code",
   "execution_count": 85,
   "id": "1Z75Slc7gtAj",
   "metadata": {
    "colab": {
     "base_uri": "https://localhost:8080/"
    },
    "executionInfo": {
     "elapsed": 32,
     "status": "ok",
     "timestamp": 1638858559635,
     "user": {
      "displayName": "PARESH CHAUDHARI",
      "photoUrl": "https://lh3.googleusercontent.com/a-/AOh14GgHEN2974O1ec2_7AW7aAev1MA2cjhyjrfmx-n8Fw=s64",
      "userId": "13612978007001828393"
     },
     "user_tz": -330
    },
    "id": "1Z75Slc7gtAj",
    "outputId": "8ce52c13-590e-4afc-b22b-19e68c2f2fb0"
   },
   "outputs": [
    {
     "name": "stdout",
     "output_type": "stream",
     "text": [
      "[nltk_data] Downloading package punkt to /root/nltk_data...\n",
      "[nltk_data]   Package punkt is already up-to-date!\n",
      "[nltk_data] Downloading package stopwords to /root/nltk_data...\n",
      "[nltk_data]   Package stopwords is already up-to-date!\n",
      "[nltk_data] Downloading package wordnet to /root/nltk_data...\n",
      "[nltk_data]   Package wordnet is already up-to-date!\n"
     ]
    },
    {
     "data": {
      "text/plain": [
       "True"
      ]
     },
     "execution_count": 85,
     "metadata": {},
     "output_type": "execute_result"
    }
   ],
   "source": [
    "nltk.download('punkt')\n",
    "nltk.download('stopwords')\n",
    "nltk.download('wordnet')"
   ]
  },
  {
   "cell_type": "code",
   "execution_count": 86,
   "id": "unknown-disaster",
   "metadata": {
    "executionInfo": {
     "elapsed": 29,
     "status": "ok",
     "timestamp": 1638858559635,
     "user": {
      "displayName": "PARESH CHAUDHARI",
      "photoUrl": "https://lh3.googleusercontent.com/a-/AOh14GgHEN2974O1ec2_7AW7aAev1MA2cjhyjrfmx-n8Fw=s64",
      "userId": "13612978007001828393"
     },
     "user_tz": -330
    },
    "id": "unknown-disaster"
   },
   "outputs": [],
   "source": [
    "# Importing Data\n",
    "df1 = pd.read_excel('1.xlsx')\n",
    "df2 = pd.read_excel('2.xlsx')\n",
    "df3 = pd.read_excel('3.xlsx')\n",
    "df4 = pd.read_excel('4.xlsx') \n",
    "df5 = pd.read_excel('5.xlsx')\n",
    "df=pd.concat([df1, df2, df3, df4, df5],ignore_index=True)"
   ]
  },
  {
   "cell_type": "code",
   "execution_count": 87,
   "id": "flexible-toddler",
   "metadata": {
    "colab": {
     "base_uri": "https://localhost:8080/"
    },
    "executionInfo": {
     "elapsed": 29,
     "status": "ok",
     "timestamp": 1638858559636,
     "user": {
      "displayName": "PARESH CHAUDHARI",
      "photoUrl": "https://lh3.googleusercontent.com/a-/AOh14GgHEN2974O1ec2_7AW7aAev1MA2cjhyjrfmx-n8Fw=s64",
      "userId": "13612978007001828393"
     },
     "user_tz": -330
    },
    "id": "flexible-toddler",
    "outputId": "8f124d22-9c63-4f19-c58b-cfd8d45e63a9"
   },
   "outputs": [
    {
     "name": "stdout",
     "output_type": "stream",
     "text": [
      "(2414, 7)\n"
     ]
    }
   ],
   "source": [
    "print(df.shape)"
   ]
  },
  {
   "cell_type": "code",
   "execution_count": 88,
   "id": "mibB2C9HOI5P",
   "metadata": {
    "colab": {
     "base_uri": "https://localhost:8080/"
    },
    "executionInfo": {
     "elapsed": 25,
     "status": "ok",
     "timestamp": 1638858559636,
     "user": {
      "displayName": "PARESH CHAUDHARI",
      "photoUrl": "https://lh3.googleusercontent.com/a-/AOh14GgHEN2974O1ec2_7AW7aAev1MA2cjhyjrfmx-n8Fw=s64",
      "userId": "13612978007001828393"
     },
     "user_tz": -330
    },
    "id": "mibB2C9HOI5P",
    "outputId": "a5a0e4ed-a688-425a-e5c2-3dffc7971e26"
   },
   "outputs": [
    {
     "name": "stdout",
     "output_type": "stream",
     "text": [
      "   Rating                           Heading  ... Upvotes Downvotes\n",
      "0       4                       Good choice  ...     308        45\n",
      "1       4                       Really Nice  ...    1813       477\n",
      "2       5                         Excellent  ...    1763       471\n",
      "3       5  Best phone at this price bracket  ...     554       164\n",
      "4       5                    Simply awesome  ...    2070       690\n",
      "5       5                 Terrific purchase  ...     205        66\n",
      "6       5                    Classy product  ...     100        44\n",
      "7       5                            Super!  ...     175        89\n",
      "8       1                         Hated it!  ...     951       850\n",
      "9       5                     Great product  ...     202       174\n",
      "\n",
      "[10 rows x 7 columns]\n"
     ]
    }
   ],
   "source": [
    "print(df.head(10))"
   ]
  },
  {
   "cell_type": "code",
   "execution_count": 89,
   "id": "dated-halifax",
   "metadata": {
    "executionInfo": {
     "elapsed": 23,
     "status": "ok",
     "timestamp": 1638858559637,
     "user": {
      "displayName": "PARESH CHAUDHARI",
      "photoUrl": "https://lh3.googleusercontent.com/a-/AOh14GgHEN2974O1ec2_7AW7aAev1MA2cjhyjrfmx-n8Fw=s64",
      "userId": "13612978007001828393"
     },
     "user_tz": -330
    },
    "id": "dated-halifax"
   },
   "outputs": [],
   "source": [
    "# Remove punctuation\n",
    "df[\"Heading\"]=df[\"Heading\"].str.replace('[^\\w\\s]','')\n",
    "df[\"Detailed_review\"]=df[\"Detailed_review\"].str.replace('[^\\w\\s]','')"
   ]
  },
  {
   "cell_type": "code",
   "execution_count": 90,
   "id": "fifth-michigan",
   "metadata": {
    "colab": {
     "base_uri": "https://localhost:8080/"
    },
    "executionInfo": {
     "elapsed": 22,
     "status": "ok",
     "timestamp": 1638858559637,
     "user": {
      "displayName": "PARESH CHAUDHARI",
      "photoUrl": "https://lh3.googleusercontent.com/a-/AOh14GgHEN2974O1ec2_7AW7aAev1MA2cjhyjrfmx-n8Fw=s64",
      "userId": "13612978007001828393"
     },
     "user_tz": -330
    },
    "id": "fifth-michigan",
    "outputId": "e8626556-ec4a-4cb5-bdad-97f6232bc885"
   },
   "outputs": [
    {
     "name": "stdout",
     "output_type": "stream",
     "text": [
      "      Rating               Heading  ... Upvotes Downvotes\n",
      "1408       5              Terrific  ...    6459      1336\n",
      "1928       4       Worth the money  ...    3028       634\n",
      "1409       4          Nice product  ...    2144       464\n",
      "4          5        Simply awesome  ...    2070       690\n",
      "1410       4  Good quality product  ...    1831       406\n",
      "...      ...                   ...  ...     ...       ...\n",
      "898        4             Very Good  ...       0         0\n",
      "899        4             Wonderful  ...       0         0\n",
      "900        5       Perfect product  ...       0         0\n",
      "901        5             Brilliant  ...       0         0\n",
      "1207       4           Really Nice  ...       0         0\n",
      "\n",
      "[2414 rows x 7 columns]\n"
     ]
    }
   ],
   "source": [
    "# Sorting according to desending Upvotes\n",
    "df=df.sort_values(\"Upvotes\",ascending=False)\n",
    "print(df)"
   ]
  },
  {
   "cell_type": "code",
   "execution_count": 91,
   "id": "HtFZOCZKLTG4",
   "metadata": {
    "colab": {
     "base_uri": "https://localhost:8080/"
    },
    "executionInfo": {
     "elapsed": 19,
     "status": "ok",
     "timestamp": 1638858559638,
     "user": {
      "displayName": "PARESH CHAUDHARI",
      "photoUrl": "https://lh3.googleusercontent.com/a-/AOh14GgHEN2974O1ec2_7AW7aAev1MA2cjhyjrfmx-n8Fw=s64",
      "userId": "13612978007001828393"
     },
     "user_tz": -330
    },
    "id": "HtFZOCZKLTG4",
    "outputId": "ca570514-2581-4153-f25e-00fc10f67eba"
   },
   "outputs": [
    {
     "name": "stdout",
     "output_type": "stream",
     "text": [
      "1408    nice phone worth a money at this price point w...\n",
      "1928    this smartphone is impressed me  camera and ba...\n",
      "1409    as usual value for money device one thing that...\n",
      "4       best mobile for in this price range battery ba...\n",
      "1410    quality wise good good performance of the priz...\n",
      "                              ...                        \n",
      "898     everything is nice but size is too small in ha...\n",
      "899                                         goodread more\n",
      "900              good to buy compact iphone everread more\n",
      "901            great product  worth every penny read more\n",
      "1207                                        goodread more\n",
      "Name: Detailed_review, Length: 2414, dtype: object\n"
     ]
    }
   ],
   "source": [
    "# Converting 'Detailed_review' to Lower Case\n",
    "df['Detailed_review']=[j.lower() for j in df['Detailed_review']]\n",
    "print(df['Detailed_review'])"
   ]
  },
  {
   "cell_type": "code",
   "execution_count": 92,
   "id": "golden-hazard",
   "metadata": {
    "colab": {
     "base_uri": "https://localhost:8080/",
     "height": 597
    },
    "executionInfo": {
     "elapsed": 511,
     "status": "ok",
     "timestamp": 1638858560134,
     "user": {
      "displayName": "PARESH CHAUDHARI",
      "photoUrl": "https://lh3.googleusercontent.com/a-/AOh14GgHEN2974O1ec2_7AW7aAev1MA2cjhyjrfmx-n8Fw=s64",
      "userId": "13612978007001828393"
     },
     "user_tz": -330
    },
    "id": "golden-hazard",
    "outputId": "02666030-03ec-4cc7-9504-1012a2183997"
   },
   "outputs": [
    {
     "data": {
      "text/html": [
       "<div>\n",
       "<style scoped>\n",
       "    .dataframe tbody tr th:only-of-type {\n",
       "        vertical-align: middle;\n",
       "    }\n",
       "\n",
       "    .dataframe tbody tr th {\n",
       "        vertical-align: top;\n",
       "    }\n",
       "\n",
       "    .dataframe thead th {\n",
       "        text-align: right;\n",
       "    }\n",
       "</style>\n",
       "<table border=\"1\" class=\"dataframe\">\n",
       "  <thead>\n",
       "    <tr style=\"text-align: right;\">\n",
       "      <th></th>\n",
       "      <th>Rating</th>\n",
       "      <th>Heading</th>\n",
       "      <th>Detailed_review</th>\n",
       "      <th>Name</th>\n",
       "      <th>Time</th>\n",
       "      <th>Upvotes</th>\n",
       "      <th>Downvotes</th>\n",
       "      <th>tokenized_sents</th>\n",
       "    </tr>\n",
       "  </thead>\n",
       "  <tbody>\n",
       "    <tr>\n",
       "      <th>1408</th>\n",
       "      <td>5</td>\n",
       "      <td>Terrific</td>\n",
       "      <td>nice phone worth a money at this price point w...</td>\n",
       "      <td>Chandan  Sur</td>\n",
       "      <td>7 months ago</td>\n",
       "      <td>6459</td>\n",
       "      <td>1336</td>\n",
       "      <td>[nice, phone, worth, a, money, at, this, price...</td>\n",
       "    </tr>\n",
       "    <tr>\n",
       "      <th>1928</th>\n",
       "      <td>4</td>\n",
       "      <td>Worth the money</td>\n",
       "      <td>this smartphone is impressed me  camera and ba...</td>\n",
       "      <td>Ambrisu Sabar</td>\n",
       "      <td>2 months ago</td>\n",
       "      <td>3028</td>\n",
       "      <td>634</td>\n",
       "      <td>[this, smartphone, is, impressed, me, camera, ...</td>\n",
       "    </tr>\n",
       "    <tr>\n",
       "      <th>1409</th>\n",
       "      <td>4</td>\n",
       "      <td>Nice product</td>\n",
       "      <td>as usual value for money device one thing that...</td>\n",
       "      <td>Soumya Brata Kar</td>\n",
       "      <td>5 months ago</td>\n",
       "      <td>2144</td>\n",
       "      <td>464</td>\n",
       "      <td>[as, usual, value, for, money, device, one, th...</td>\n",
       "    </tr>\n",
       "    <tr>\n",
       "      <th>4</th>\n",
       "      <td>5</td>\n",
       "      <td>Simply awesome</td>\n",
       "      <td>best mobile for in this price range battery ba...</td>\n",
       "      <td>Pradeep Putta</td>\n",
       "      <td>5 months ago</td>\n",
       "      <td>2070</td>\n",
       "      <td>690</td>\n",
       "      <td>[best, mobile, for, in, this, price, range, ba...</td>\n",
       "    </tr>\n",
       "    <tr>\n",
       "      <th>1410</th>\n",
       "      <td>4</td>\n",
       "      <td>Good quality product</td>\n",
       "      <td>quality wise good good performance of the priz...</td>\n",
       "      <td>Pavani  Honey</td>\n",
       "      <td>5 months ago</td>\n",
       "      <td>1831</td>\n",
       "      <td>406</td>\n",
       "      <td>[quality, wise, good, good, performance, of, t...</td>\n",
       "    </tr>\n",
       "    <tr>\n",
       "      <th>...</th>\n",
       "      <td>...</td>\n",
       "      <td>...</td>\n",
       "      <td>...</td>\n",
       "      <td>...</td>\n",
       "      <td>...</td>\n",
       "      <td>...</td>\n",
       "      <td>...</td>\n",
       "      <td>...</td>\n",
       "    </tr>\n",
       "    <tr>\n",
       "      <th>898</th>\n",
       "      <td>4</td>\n",
       "      <td>Very Good</td>\n",
       "      <td>everything is nice but size is too small in ha...</td>\n",
       "      <td>Yugal  Kishor</td>\n",
       "      <td>1 month ago</td>\n",
       "      <td>0</td>\n",
       "      <td>0</td>\n",
       "      <td>[everything, is, nice, but, size, is, too, sma...</td>\n",
       "    </tr>\n",
       "    <tr>\n",
       "      <th>899</th>\n",
       "      <td>4</td>\n",
       "      <td>Wonderful</td>\n",
       "      <td>goodread more</td>\n",
       "      <td>Ashok Kumar Verma Ashok Kumar Verma</td>\n",
       "      <td>14 days ago</td>\n",
       "      <td>0</td>\n",
       "      <td>0</td>\n",
       "      <td>[goodread, more]</td>\n",
       "    </tr>\n",
       "    <tr>\n",
       "      <th>900</th>\n",
       "      <td>5</td>\n",
       "      <td>Perfect product</td>\n",
       "      <td>good to buy compact iphone everread more</td>\n",
       "      <td>Manas Kadam</td>\n",
       "      <td>15 days ago</td>\n",
       "      <td>0</td>\n",
       "      <td>0</td>\n",
       "      <td>[good, to, buy, compact, iphone, everread, more]</td>\n",
       "    </tr>\n",
       "    <tr>\n",
       "      <th>901</th>\n",
       "      <td>5</td>\n",
       "      <td>Brilliant</td>\n",
       "      <td>great product  worth every penny read more</td>\n",
       "      <td>Flipkart Customer</td>\n",
       "      <td>15 days ago</td>\n",
       "      <td>0</td>\n",
       "      <td>0</td>\n",
       "      <td>[great, product, worth, every, penny, read, more]</td>\n",
       "    </tr>\n",
       "    <tr>\n",
       "      <th>1207</th>\n",
       "      <td>4</td>\n",
       "      <td>Really Nice</td>\n",
       "      <td>goodread more</td>\n",
       "      <td>Amit  Yadav</td>\n",
       "      <td>24 days ago</td>\n",
       "      <td>0</td>\n",
       "      <td>0</td>\n",
       "      <td>[goodread, more]</td>\n",
       "    </tr>\n",
       "  </tbody>\n",
       "</table>\n",
       "<p>2414 rows × 8 columns</p>\n",
       "</div>"
      ],
      "text/plain": [
       "      Rating  ...                                    tokenized_sents\n",
       "1408       5  ...  [nice, phone, worth, a, money, at, this, price...\n",
       "1928       4  ...  [this, smartphone, is, impressed, me, camera, ...\n",
       "1409       4  ...  [as, usual, value, for, money, device, one, th...\n",
       "4          5  ...  [best, mobile, for, in, this, price, range, ba...\n",
       "1410       4  ...  [quality, wise, good, good, performance, of, t...\n",
       "...      ...  ...                                                ...\n",
       "898        4  ...  [everything, is, nice, but, size, is, too, sma...\n",
       "899        4  ...                                   [goodread, more]\n",
       "900        5  ...   [good, to, buy, compact, iphone, everread, more]\n",
       "901        5  ...  [great, product, worth, every, penny, read, more]\n",
       "1207       4  ...                                   [goodread, more]\n",
       "\n",
       "[2414 rows x 8 columns]"
      ]
     },
     "execution_count": 92,
     "metadata": {},
     "output_type": "execute_result"
    }
   ],
   "source": [
    "# Tokenization\n",
    "df['tokenized_sents'] = [word_tokenize(i) for i in df['Detailed_review']]\n",
    "df"
   ]
  },
  {
   "cell_type": "code",
   "execution_count": 93,
   "id": "infectious-activation",
   "metadata": {
    "executionInfo": {
     "elapsed": 32,
     "status": "ok",
     "timestamp": 1638858560136,
     "user": {
      "displayName": "PARESH CHAUDHARI",
      "photoUrl": "https://lh3.googleusercontent.com/a-/AOh14GgHEN2974O1ec2_7AW7aAev1MA2cjhyjrfmx-n8Fw=s64",
      "userId": "13612978007001828393"
     },
     "user_tz": -330
    },
    "id": "infectious-activation"
   },
   "outputs": [],
   "source": [
    "# Remove READ MORE\n",
    "for i in df['tokenized_sents']:\n",
    "    if(i[-1]=='MORE' or i[-1]==\"more\"):\n",
    "      i.pop()\n",
    "      i.pop()"
   ]
  },
  {
   "cell_type": "code",
   "execution_count": 94,
   "id": "fatal-toolbox",
   "metadata": {
    "colab": {
     "base_uri": "https://localhost:8080/",
     "height": 597
    },
    "executionInfo": {
     "elapsed": 32,
     "status": "ok",
     "timestamp": 1638858560137,
     "user": {
      "displayName": "PARESH CHAUDHARI",
      "photoUrl": "https://lh3.googleusercontent.com/a-/AOh14GgHEN2974O1ec2_7AW7aAev1MA2cjhyjrfmx-n8Fw=s64",
      "userId": "13612978007001828393"
     },
     "user_tz": -330
    },
    "id": "fatal-toolbox",
    "outputId": "0df0ab81-75f9-4344-8558-1d7e3e50856f"
   },
   "outputs": [
    {
     "data": {
      "text/html": [
       "<div>\n",
       "<style scoped>\n",
       "    .dataframe tbody tr th:only-of-type {\n",
       "        vertical-align: middle;\n",
       "    }\n",
       "\n",
       "    .dataframe tbody tr th {\n",
       "        vertical-align: top;\n",
       "    }\n",
       "\n",
       "    .dataframe thead th {\n",
       "        text-align: right;\n",
       "    }\n",
       "</style>\n",
       "<table border=\"1\" class=\"dataframe\">\n",
       "  <thead>\n",
       "    <tr style=\"text-align: right;\">\n",
       "      <th></th>\n",
       "      <th>Rating</th>\n",
       "      <th>Heading</th>\n",
       "      <th>Detailed_review</th>\n",
       "      <th>Name</th>\n",
       "      <th>Time</th>\n",
       "      <th>Upvotes</th>\n",
       "      <th>Downvotes</th>\n",
       "      <th>tokenized_sents</th>\n",
       "    </tr>\n",
       "  </thead>\n",
       "  <tbody>\n",
       "    <tr>\n",
       "      <th>1408</th>\n",
       "      <td>5</td>\n",
       "      <td>Terrific</td>\n",
       "      <td>nice phone worth a money at this price point w...</td>\n",
       "      <td>Chandan  Sur</td>\n",
       "      <td>7 months ago</td>\n",
       "      <td>6459</td>\n",
       "      <td>1336</td>\n",
       "      <td>[nice, phone, worth, a, money, at, this, price...</td>\n",
       "    </tr>\n",
       "    <tr>\n",
       "      <th>1928</th>\n",
       "      <td>4</td>\n",
       "      <td>Worth the money</td>\n",
       "      <td>this smartphone is impressed me  camera and ba...</td>\n",
       "      <td>Ambrisu Sabar</td>\n",
       "      <td>2 months ago</td>\n",
       "      <td>3028</td>\n",
       "      <td>634</td>\n",
       "      <td>[this, smartphone, is, impressed, me, camera, ...</td>\n",
       "    </tr>\n",
       "    <tr>\n",
       "      <th>1409</th>\n",
       "      <td>4</td>\n",
       "      <td>Nice product</td>\n",
       "      <td>as usual value for money device one thing that...</td>\n",
       "      <td>Soumya Brata Kar</td>\n",
       "      <td>5 months ago</td>\n",
       "      <td>2144</td>\n",
       "      <td>464</td>\n",
       "      <td>[as, usual, value, for, money, device, one, th...</td>\n",
       "    </tr>\n",
       "    <tr>\n",
       "      <th>4</th>\n",
       "      <td>5</td>\n",
       "      <td>Simply awesome</td>\n",
       "      <td>best mobile for in this price range battery ba...</td>\n",
       "      <td>Pradeep Putta</td>\n",
       "      <td>5 months ago</td>\n",
       "      <td>2070</td>\n",
       "      <td>690</td>\n",
       "      <td>[best, mobile, for, in, this, price, range, ba...</td>\n",
       "    </tr>\n",
       "    <tr>\n",
       "      <th>1410</th>\n",
       "      <td>4</td>\n",
       "      <td>Good quality product</td>\n",
       "      <td>quality wise good good performance of the priz...</td>\n",
       "      <td>Pavani  Honey</td>\n",
       "      <td>5 months ago</td>\n",
       "      <td>1831</td>\n",
       "      <td>406</td>\n",
       "      <td>[quality, wise, good, good, performance, of, t...</td>\n",
       "    </tr>\n",
       "    <tr>\n",
       "      <th>...</th>\n",
       "      <td>...</td>\n",
       "      <td>...</td>\n",
       "      <td>...</td>\n",
       "      <td>...</td>\n",
       "      <td>...</td>\n",
       "      <td>...</td>\n",
       "      <td>...</td>\n",
       "      <td>...</td>\n",
       "    </tr>\n",
       "    <tr>\n",
       "      <th>898</th>\n",
       "      <td>4</td>\n",
       "      <td>Very Good</td>\n",
       "      <td>everything is nice but size is too small in ha...</td>\n",
       "      <td>Yugal  Kishor</td>\n",
       "      <td>1 month ago</td>\n",
       "      <td>0</td>\n",
       "      <td>0</td>\n",
       "      <td>[everything, is, nice, but, size, is, too, sma...</td>\n",
       "    </tr>\n",
       "    <tr>\n",
       "      <th>899</th>\n",
       "      <td>4</td>\n",
       "      <td>Wonderful</td>\n",
       "      <td>goodread more</td>\n",
       "      <td>Ashok Kumar Verma Ashok Kumar Verma</td>\n",
       "      <td>14 days ago</td>\n",
       "      <td>0</td>\n",
       "      <td>0</td>\n",
       "      <td>[]</td>\n",
       "    </tr>\n",
       "    <tr>\n",
       "      <th>900</th>\n",
       "      <td>5</td>\n",
       "      <td>Perfect product</td>\n",
       "      <td>good to buy compact iphone everread more</td>\n",
       "      <td>Manas Kadam</td>\n",
       "      <td>15 days ago</td>\n",
       "      <td>0</td>\n",
       "      <td>0</td>\n",
       "      <td>[good, to, buy, compact, iphone]</td>\n",
       "    </tr>\n",
       "    <tr>\n",
       "      <th>901</th>\n",
       "      <td>5</td>\n",
       "      <td>Brilliant</td>\n",
       "      <td>great product  worth every penny read more</td>\n",
       "      <td>Flipkart Customer</td>\n",
       "      <td>15 days ago</td>\n",
       "      <td>0</td>\n",
       "      <td>0</td>\n",
       "      <td>[great, product, worth, every, penny]</td>\n",
       "    </tr>\n",
       "    <tr>\n",
       "      <th>1207</th>\n",
       "      <td>4</td>\n",
       "      <td>Really Nice</td>\n",
       "      <td>goodread more</td>\n",
       "      <td>Amit  Yadav</td>\n",
       "      <td>24 days ago</td>\n",
       "      <td>0</td>\n",
       "      <td>0</td>\n",
       "      <td>[]</td>\n",
       "    </tr>\n",
       "  </tbody>\n",
       "</table>\n",
       "<p>2414 rows × 8 columns</p>\n",
       "</div>"
      ],
      "text/plain": [
       "      Rating  ...                                    tokenized_sents\n",
       "1408       5  ...  [nice, phone, worth, a, money, at, this, price...\n",
       "1928       4  ...  [this, smartphone, is, impressed, me, camera, ...\n",
       "1409       4  ...  [as, usual, value, for, money, device, one, th...\n",
       "4          5  ...  [best, mobile, for, in, this, price, range, ba...\n",
       "1410       4  ...  [quality, wise, good, good, performance, of, t...\n",
       "...      ...  ...                                                ...\n",
       "898        4  ...  [everything, is, nice, but, size, is, too, sma...\n",
       "899        4  ...                                                 []\n",
       "900        5  ...                   [good, to, buy, compact, iphone]\n",
       "901        5  ...              [great, product, worth, every, penny]\n",
       "1207       4  ...                                                 []\n",
       "\n",
       "[2414 rows x 8 columns]"
      ]
     },
     "execution_count": 94,
     "metadata": {},
     "output_type": "execute_result"
    }
   ],
   "source": [
    "df"
   ]
  },
  {
   "cell_type": "code",
   "execution_count": 95,
   "id": "stuck-lottery",
   "metadata": {
    "colab": {
     "base_uri": "https://localhost:8080/",
     "height": 597
    },
    "executionInfo": {
     "elapsed": 32,
     "status": "ok",
     "timestamp": 1638858560138,
     "user": {
      "displayName": "PARESH CHAUDHARI",
      "photoUrl": "https://lh3.googleusercontent.com/a-/AOh14GgHEN2974O1ec2_7AW7aAev1MA2cjhyjrfmx-n8Fw=s64",
      "userId": "13612978007001828393"
     },
     "user_tz": -330
    },
    "id": "stuck-lottery",
    "outputId": "41a399fc-4301-4e8b-ac54-77bc48893ce5"
   },
   "outputs": [
    {
     "data": {
      "text/html": [
       "<div>\n",
       "<style scoped>\n",
       "    .dataframe tbody tr th:only-of-type {\n",
       "        vertical-align: middle;\n",
       "    }\n",
       "\n",
       "    .dataframe tbody tr th {\n",
       "        vertical-align: top;\n",
       "    }\n",
       "\n",
       "    .dataframe thead th {\n",
       "        text-align: right;\n",
       "    }\n",
       "</style>\n",
       "<table border=\"1\" class=\"dataframe\">\n",
       "  <thead>\n",
       "    <tr style=\"text-align: right;\">\n",
       "      <th></th>\n",
       "      <th>Rating</th>\n",
       "      <th>Heading</th>\n",
       "      <th>Detailed_review</th>\n",
       "      <th>Name</th>\n",
       "      <th>Time</th>\n",
       "      <th>Upvotes</th>\n",
       "      <th>Downvotes</th>\n",
       "      <th>tokenized_sents</th>\n",
       "      <th>len</th>\n",
       "    </tr>\n",
       "  </thead>\n",
       "  <tbody>\n",
       "    <tr>\n",
       "      <th>1408</th>\n",
       "      <td>5</td>\n",
       "      <td>Terrific</td>\n",
       "      <td>nice phone worth a money at this price point w...</td>\n",
       "      <td>Chandan  Sur</td>\n",
       "      <td>7 months ago</td>\n",
       "      <td>6459</td>\n",
       "      <td>1336</td>\n",
       "      <td>[nice, phone, worth, a, money, at, this, price...</td>\n",
       "      <td>39</td>\n",
       "    </tr>\n",
       "    <tr>\n",
       "      <th>1928</th>\n",
       "      <td>4</td>\n",
       "      <td>Worth the money</td>\n",
       "      <td>this smartphone is impressed me  camera and ba...</td>\n",
       "      <td>Ambrisu Sabar</td>\n",
       "      <td>2 months ago</td>\n",
       "      <td>3028</td>\n",
       "      <td>634</td>\n",
       "      <td>[this, smartphone, is, impressed, me, camera, ...</td>\n",
       "      <td>29</td>\n",
       "    </tr>\n",
       "    <tr>\n",
       "      <th>1409</th>\n",
       "      <td>4</td>\n",
       "      <td>Nice product</td>\n",
       "      <td>as usual value for money device one thing that...</td>\n",
       "      <td>Soumya Brata Kar</td>\n",
       "      <td>5 months ago</td>\n",
       "      <td>2144</td>\n",
       "      <td>464</td>\n",
       "      <td>[as, usual, value, for, money, device, one, th...</td>\n",
       "      <td>40</td>\n",
       "    </tr>\n",
       "    <tr>\n",
       "      <th>4</th>\n",
       "      <td>5</td>\n",
       "      <td>Simply awesome</td>\n",
       "      <td>best mobile for in this price range battery ba...</td>\n",
       "      <td>Pradeep Putta</td>\n",
       "      <td>5 months ago</td>\n",
       "      <td>2070</td>\n",
       "      <td>690</td>\n",
       "      <td>[best, mobile, for, in, this, price, range, ba...</td>\n",
       "      <td>24</td>\n",
       "    </tr>\n",
       "    <tr>\n",
       "      <th>1410</th>\n",
       "      <td>4</td>\n",
       "      <td>Good quality product</td>\n",
       "      <td>quality wise good good performance of the priz...</td>\n",
       "      <td>Pavani  Honey</td>\n",
       "      <td>5 months ago</td>\n",
       "      <td>1831</td>\n",
       "      <td>406</td>\n",
       "      <td>[quality, wise, good, good, performance, of, t...</td>\n",
       "      <td>18</td>\n",
       "    </tr>\n",
       "    <tr>\n",
       "      <th>...</th>\n",
       "      <td>...</td>\n",
       "      <td>...</td>\n",
       "      <td>...</td>\n",
       "      <td>...</td>\n",
       "      <td>...</td>\n",
       "      <td>...</td>\n",
       "      <td>...</td>\n",
       "      <td>...</td>\n",
       "      <td>...</td>\n",
       "    </tr>\n",
       "    <tr>\n",
       "      <th>898</th>\n",
       "      <td>4</td>\n",
       "      <td>Very Good</td>\n",
       "      <td>everything is nice but size is too small in ha...</td>\n",
       "      <td>Yugal  Kishor</td>\n",
       "      <td>1 month ago</td>\n",
       "      <td>0</td>\n",
       "      <td>0</td>\n",
       "      <td>[everything, is, nice, but, size, is, too, sma...</td>\n",
       "      <td>16</td>\n",
       "    </tr>\n",
       "    <tr>\n",
       "      <th>899</th>\n",
       "      <td>4</td>\n",
       "      <td>Wonderful</td>\n",
       "      <td>goodread more</td>\n",
       "      <td>Ashok Kumar Verma Ashok Kumar Verma</td>\n",
       "      <td>14 days ago</td>\n",
       "      <td>0</td>\n",
       "      <td>0</td>\n",
       "      <td>[]</td>\n",
       "      <td>0</td>\n",
       "    </tr>\n",
       "    <tr>\n",
       "      <th>900</th>\n",
       "      <td>5</td>\n",
       "      <td>Perfect product</td>\n",
       "      <td>good to buy compact iphone everread more</td>\n",
       "      <td>Manas Kadam</td>\n",
       "      <td>15 days ago</td>\n",
       "      <td>0</td>\n",
       "      <td>0</td>\n",
       "      <td>[good, to, buy, compact, iphone]</td>\n",
       "      <td>5</td>\n",
       "    </tr>\n",
       "    <tr>\n",
       "      <th>901</th>\n",
       "      <td>5</td>\n",
       "      <td>Brilliant</td>\n",
       "      <td>great product  worth every penny read more</td>\n",
       "      <td>Flipkart Customer</td>\n",
       "      <td>15 days ago</td>\n",
       "      <td>0</td>\n",
       "      <td>0</td>\n",
       "      <td>[great, product, worth, every, penny]</td>\n",
       "      <td>5</td>\n",
       "    </tr>\n",
       "    <tr>\n",
       "      <th>1207</th>\n",
       "      <td>4</td>\n",
       "      <td>Really Nice</td>\n",
       "      <td>goodread more</td>\n",
       "      <td>Amit  Yadav</td>\n",
       "      <td>24 days ago</td>\n",
       "      <td>0</td>\n",
       "      <td>0</td>\n",
       "      <td>[]</td>\n",
       "      <td>0</td>\n",
       "    </tr>\n",
       "  </tbody>\n",
       "</table>\n",
       "<p>2414 rows × 9 columns</p>\n",
       "</div>"
      ],
      "text/plain": [
       "      Rating  ... len\n",
       "1408       5  ...  39\n",
       "1928       4  ...  29\n",
       "1409       4  ...  40\n",
       "4          5  ...  24\n",
       "1410       4  ...  18\n",
       "...      ...  ...  ..\n",
       "898        4  ...  16\n",
       "899        4  ...   0\n",
       "900        5  ...   5\n",
       "901        5  ...   5\n",
       "1207       4  ...   0\n",
       "\n",
       "[2414 rows x 9 columns]"
      ]
     },
     "execution_count": 95,
     "metadata": {},
     "output_type": "execute_result"
    }
   ],
   "source": [
    "# Length of Tokenized list\n",
    "df['len']=[len(i) for i in df['tokenized_sents']]\n",
    "df"
   ]
  },
  {
   "cell_type": "code",
   "execution_count": 96,
   "id": "japanese-underwear",
   "metadata": {
    "colab": {
     "base_uri": "https://localhost:8080/"
    },
    "executionInfo": {
     "elapsed": 31,
     "status": "ok",
     "timestamp": 1638858560139,
     "user": {
      "displayName": "PARESH CHAUDHARI",
      "photoUrl": "https://lh3.googleusercontent.com/a-/AOh14GgHEN2974O1ec2_7AW7aAev1MA2cjhyjrfmx-n8Fw=s64",
      "userId": "13612978007001828393"
     },
     "user_tz": -330
    },
    "id": "japanese-underwear",
    "outputId": "ce33a98a-1c8a-415c-a62c-71d932fcb56e"
   },
   "outputs": [
    {
     "data": {
      "text/plain": [
       "count    2414.000000\n",
       "mean       11.853770\n",
       "std        18.131529\n",
       "min         0.000000\n",
       "25%         1.000000\n",
       "50%         4.000000\n",
       "75%        14.000000\n",
       "max        98.000000\n",
       "Name: len, dtype: float64"
      ]
     },
     "execution_count": 96,
     "metadata": {},
     "output_type": "execute_result"
    }
   ],
   "source": [
    "df['len'].describe()"
   ]
  },
  {
   "cell_type": "code",
   "execution_count": 97,
   "id": "MTKi3tCuUzAR",
   "metadata": {
    "executionInfo": {
     "elapsed": 29,
     "status": "ok",
     "timestamp": 1638858560140,
     "user": {
      "displayName": "PARESH CHAUDHARI",
      "photoUrl": "https://lh3.googleusercontent.com/a-/AOh14GgHEN2974O1ec2_7AW7aAev1MA2cjhyjrfmx-n8Fw=s64",
      "userId": "13612978007001828393"
     },
     "user_tz": -330
    },
    "id": "MTKi3tCuUzAR"
   },
   "outputs": [],
   "source": [
    "df=df[df['len']>0]"
   ]
  },
  {
   "cell_type": "code",
   "execution_count": 98,
   "id": "moved-strain",
   "metadata": {
    "colab": {
     "base_uri": "https://localhost:8080/"
    },
    "executionInfo": {
     "elapsed": 29,
     "status": "ok",
     "timestamp": 1638858560141,
     "user": {
      "displayName": "PARESH CHAUDHARI",
      "photoUrl": "https://lh3.googleusercontent.com/a-/AOh14GgHEN2974O1ec2_7AW7aAev1MA2cjhyjrfmx-n8Fw=s64",
      "userId": "13612978007001828393"
     },
     "user_tz": -330
    },
    "id": "moved-strain",
    "outputId": "9686e364-7205-4660-b516-9327f5517da0"
   },
   "outputs": [
    {
     "name": "stderr",
     "output_type": "stream",
     "text": [
      "/usr/local/lib/python3.7/dist-packages/ipykernel_launcher.py:3: SettingWithCopyWarning: \n",
      "A value is trying to be set on a copy of a slice from a DataFrame.\n",
      "Try using .loc[row_indexer,col_indexer] = value instead\n",
      "\n",
      "See the caveats in the documentation: https://pandas.pydata.org/pandas-docs/stable/user_guide/indexing.html#returning-a-view-versus-a-copy\n",
      "  This is separate from the ipykernel package so we can avoid doing imports until\n"
     ]
    }
   ],
   "source": [
    "# Stopwords \n",
    "stop_words = set(stopwords.words('english'))\n",
    "df['tokenized_sents']=df['tokenized_sents'].apply(lambda x: [item for item in x if item not in stop_words])"
   ]
  },
  {
   "cell_type": "code",
   "execution_count": 99,
   "id": "tycLMg7ZNW64",
   "metadata": {
    "colab": {
     "base_uri": "https://localhost:8080/"
    },
    "executionInfo": {
     "elapsed": 26,
     "status": "ok",
     "timestamp": 1638858560142,
     "user": {
      "displayName": "PARESH CHAUDHARI",
      "photoUrl": "https://lh3.googleusercontent.com/a-/AOh14GgHEN2974O1ec2_7AW7aAev1MA2cjhyjrfmx-n8Fw=s64",
      "userId": "13612978007001828393"
     },
     "user_tz": -330
    },
    "id": "tycLMg7ZNW64",
    "outputId": "1697bd06-193c-46bb-a1f3-8aa895152410"
   },
   "outputs": [
    {
     "name": "stdout",
     "output_type": "stream",
     "text": [
      "1408    [nice, phone, worth, money, price, point, else...\n",
      "1928    [smartphone, impressed, camera, battery, backu...\n",
      "1409    [usual, value, money, device, one, thing, attr...\n",
      "4       [best, mobile, price, range, battery, backup, ...\n",
      "1410    [quality, wise, good, good, performance, prize...\n",
      "1       [first, would, like, thank, flipkart, fastest,...\n",
      "2       [smartphone, good, camera, battery, value, mon...\n",
      "1435                                              [power]\n",
      "515     [nice, product, fully, satisfied, thankyou, fl...\n",
      "1415    [using, phone, three, day, speed, good, displa...\n",
      "1463                            [super, 48, camara, like]\n",
      "516     [superb, nice, phone, mini, compact, small, pr...\n",
      "8       [phone, look, great, appearance, fully, black,...\n",
      "1950                               [nice, product, value]\n",
      "1413    [liked, phone, much, praise, tha, phone, good,...\n",
      "579                                     [camera, quality]\n",
      "1467                                               [best]\n",
      "517     [iphone, user, since, 2010, till, using, italm...\n",
      "1927    [awsome, product, value, money, stereo, speake...\n",
      "1984                                  [nyc, best, budget]\n",
      "Name: tokenized_sents, dtype: object\n"
     ]
    },
    {
     "name": "stderr",
     "output_type": "stream",
     "text": [
      "/usr/local/lib/python3.7/dist-packages/ipykernel_launcher.py:3: SettingWithCopyWarning: \n",
      "A value is trying to be set on a copy of a slice from a DataFrame.\n",
      "Try using .loc[row_indexer,col_indexer] = value instead\n",
      "\n",
      "See the caveats in the documentation: https://pandas.pydata.org/pandas-docs/stable/user_guide/indexing.html#returning-a-view-versus-a-copy\n",
      "  This is separate from the ipykernel package so we can avoid doing imports until\n"
     ]
    }
   ],
   "source": [
    "# Lemmatization\n",
    "wordnet_lemmatizer = WordNetLemmatizer()\n",
    "df['tokenized_sents']=df['tokenized_sents'].apply(lambda x: [wordnet_lemmatizer.lemmatize(y) for y in x])\n",
    "print(df['tokenized_sents'].head(20))"
   ]
  },
  {
   "cell_type": "code",
   "execution_count": 100,
   "id": "i3f4z4BJRc40",
   "metadata": {
    "colab": {
     "base_uri": "https://localhost:8080/"
    },
    "executionInfo": {
     "elapsed": 496337,
     "status": "ok",
     "timestamp": 1638859071186,
     "user": {
      "displayName": "PARESH CHAUDHARI",
      "photoUrl": "https://lh3.googleusercontent.com/a-/AOh14GgHEN2974O1ec2_7AW7aAev1MA2cjhyjrfmx-n8Fw=s64",
      "userId": "13612978007001828393"
     },
     "user_tz": -330
    },
    "id": "i3f4z4BJRc40",
    "outputId": "87ed0a10-4077-4630-fa75-69965f523875"
   },
   "outputs": [
    {
     "name": "stdout",
     "output_type": "stream",
     "text": [
      "1408    [nice, phone, worth, money, price, point, else...\n",
      "1928    [smartphone, impressed, camera, battery, backu...\n",
      "1409    [usual, value, money, device, one, thing, attr...\n",
      "4       [best, mobile, price, range, battery, backup, ...\n",
      "1410    [quality, wise, good, good, performance, prize...\n",
      "1       [first, would, like, thank, flippant, fastest,...\n",
      "2       [smartphone, good, camera, battery, value, mon...\n",
      "1435                                              [power]\n",
      "515     [nice, product, fully, satisfied, thankyou, fl...\n",
      "1415    [using, phone, three, day, speed, good, displa...\n",
      "1463                            [super, 48, camera, like]\n",
      "516     [superb, nice, phone, mini, compact, small, pr...\n",
      "8       [phone, look, great, appearance, fully, black,...\n",
      "1950                               [nice, product, value]\n",
      "1413    [liked, phone, much, praise, tha, phone, good,...\n",
      "579                                     [camera, quality]\n",
      "1467                                               [best]\n",
      "517     [iphone, user, since, 2010, till, using, almos...\n",
      "1927    [awsome, product, value, money, stereo, speake...\n",
      "1984                                   [ny, best, budget]\n",
      "Name: tokenized_sents, dtype: object\n"
     ]
    },
    {
     "name": "stderr",
     "output_type": "stream",
     "text": [
      "/usr/local/lib/python3.7/dist-packages/ipykernel_launcher.py:3: SettingWithCopyWarning: \n",
      "A value is trying to be set on a copy of a slice from a DataFrame.\n",
      "Try using .loc[row_indexer,col_indexer] = value instead\n",
      "\n",
      "See the caveats in the documentation: https://pandas.pydata.org/pandas-docs/stable/user_guide/indexing.html#returning-a-view-versus-a-copy\n",
      "  This is separate from the ipykernel package so we can avoid doing imports until\n"
     ]
    }
   ],
   "source": [
    "# Pyspellchecker for spelling correction\n",
    "spell = SpellChecker()\n",
    "df['tokenized_sents']=df['tokenized_sents'].apply(lambda x: [spell.correction(y) for y in x])\n",
    "print(df['tokenized_sents'].head(20))"
   ]
  },
  {
   "cell_type": "code",
   "execution_count": 101,
   "id": "Dcsig6IRNhLQ",
   "metadata": {
    "colab": {
     "base_uri": "https://localhost:8080/"
    },
    "executionInfo": {
     "elapsed": 22,
     "status": "ok",
     "timestamp": 1638859071187,
     "user": {
      "displayName": "PARESH CHAUDHARI",
      "photoUrl": "https://lh3.googleusercontent.com/a-/AOh14GgHEN2974O1ec2_7AW7aAev1MA2cjhyjrfmx-n8Fw=s64",
      "userId": "13612978007001828393"
     },
     "user_tz": -330
    },
    "id": "Dcsig6IRNhLQ",
    "outputId": "038e0e18-bdfc-4318-c6a2-65cec7b1905e"
   },
   "outputs": [
    {
     "name": "stdout",
     "output_type": "stream",
     "text": [
      "1408    nice phone worth money price point else ask th...\n",
      "1928    smartphone impressed camera battery backup goo...\n",
      "1409    usual value money device one thing attracts st...\n",
      "4       best mobile price range battery backup highlig...\n",
      "1410    quality wise good good performance prize cam q...\n",
      "                              ...                        \n",
      "896                                      super awesome 12\n",
      "897     perfect device handy smooth running apps camer...\n",
      "898      everything nice size small hand comfortable time\n",
      "900                               good buy compact iphone\n",
      "901                       great product worth every penny\n",
      "Name: Cleaned Detailed Review, Length: 2079, dtype: object\n"
     ]
    },
    {
     "name": "stderr",
     "output_type": "stream",
     "text": [
      "/usr/local/lib/python3.7/dist-packages/ipykernel_launcher.py:3: SettingWithCopyWarning: \n",
      "A value is trying to be set on a copy of a slice from a DataFrame.\n",
      "Try using .loc[row_indexer,col_indexer] = value instead\n",
      "\n",
      "See the caveats in the documentation: https://pandas.pydata.org/pandas-docs/stable/user_guide/indexing.html#returning-a-view-versus-a-copy\n",
      "  This is separate from the ipykernel package so we can avoid doing imports until\n"
     ]
    }
   ],
   "source": [
    "# Joining tokenised list\n",
    "separator = ' '\n",
    "df['Cleaned Detailed Review']=df['tokenized_sents'].apply(lambda x: separator.join(x))\n",
    "print(df['Cleaned Detailed Review'])"
   ]
  },
  {
   "cell_type": "code",
   "execution_count": 102,
   "id": "41REnipwSy_S",
   "metadata": {
    "executionInfo": {
     "elapsed": 17,
     "status": "ok",
     "timestamp": 1638859071188,
     "user": {
      "displayName": "PARESH CHAUDHARI",
      "photoUrl": "https://lh3.googleusercontent.com/a-/AOh14GgHEN2974O1ec2_7AW7aAev1MA2cjhyjrfmx-n8Fw=s64",
      "userId": "13612978007001828393"
     },
     "user_tz": -330
    },
    "id": "41REnipwSy_S"
   },
   "outputs": [],
   "source": [
    "'''\n",
    "For rating 1 2 3 = 0 (Low Trust)\n",
    "For rating 4 5 = 1 (High Trust)\n",
    "'''\n",
    "def get_trust(n):\n",
    "  if(n==4 or n==5):\n",
    "    return 1\n",
    "  else:\n",
    "    return 0"
   ]
  },
  {
   "cell_type": "code",
   "execution_count": 103,
   "id": "f7tmkzvILCVJ",
   "metadata": {
    "colab": {
     "base_uri": "https://localhost:8080/"
    },
    "executionInfo": {
     "elapsed": 17,
     "status": "ok",
     "timestamp": 1638859071189,
     "user": {
      "displayName": "PARESH CHAUDHARI",
      "photoUrl": "https://lh3.googleusercontent.com/a-/AOh14GgHEN2974O1ec2_7AW7aAev1MA2cjhyjrfmx-n8Fw=s64",
      "userId": "13612978007001828393"
     },
     "user_tz": -330
    },
    "id": "f7tmkzvILCVJ",
    "outputId": "7f37aa88-4822-4cfb-b470-bf5c100e03bd"
   },
   "outputs": [
    {
     "name": "stdout",
     "output_type": "stream",
     "text": [
      "1408    1\n",
      "1928    1\n",
      "1409    1\n",
      "4       1\n",
      "1410    1\n",
      "       ..\n",
      "896     1\n",
      "897     1\n",
      "898     1\n",
      "900     1\n",
      "901     1\n",
      "Name: Trust, Length: 2079, dtype: int64\n"
     ]
    },
    {
     "name": "stderr",
     "output_type": "stream",
     "text": [
      "/usr/local/lib/python3.7/dist-packages/ipykernel_launcher.py:2: SettingWithCopyWarning: \n",
      "A value is trying to be set on a copy of a slice from a DataFrame.\n",
      "Try using .loc[row_indexer,col_indexer] = value instead\n",
      "\n",
      "See the caveats in the documentation: https://pandas.pydata.org/pandas-docs/stable/user_guide/indexing.html#returning-a-view-versus-a-copy\n",
      "  \n"
     ]
    }
   ],
   "source": [
    "# Encoding Trust into low (0) and high (1)\n",
    "df['Trust']=df['Rating'].apply(lambda x: get_trust(x))\n",
    "print(df['Trust'])"
   ]
  },
  {
   "cell_type": "code",
   "execution_count": 104,
   "id": "Z9delkeDLCPJ",
   "metadata": {
    "colab": {
     "base_uri": "https://localhost:8080/"
    },
    "executionInfo": {
     "elapsed": 13,
     "status": "ok",
     "timestamp": 1638859071189,
     "user": {
      "displayName": "PARESH CHAUDHARI",
      "photoUrl": "https://lh3.googleusercontent.com/a-/AOh14GgHEN2974O1ec2_7AW7aAev1MA2cjhyjrfmx-n8Fw=s64",
      "userId": "13612978007001828393"
     },
     "user_tz": -330
    },
    "id": "Z9delkeDLCPJ",
    "outputId": "84f7e103-6f2b-4575-c03a-112e78f5a924"
   },
   "outputs": [
    {
     "name": "stdout",
     "output_type": "stream",
     "text": [
      "                                Cleaned Detailed Review  Trust\n",
      "1408  nice phone worth money price point else ask th...      1\n",
      "1928  smartphone impressed camera battery backup goo...      1\n",
      "1409  usual value money device one thing attracts st...      1\n",
      "4     best mobile price range battery backup highlig...      1\n",
      "1410  quality wise good good performance prize cam q...      1\n",
      "...                                                 ...    ...\n",
      "896                                    super awesome 12      1\n",
      "897   perfect device handy smooth running apps camer...      1\n",
      "898    everything nice size small hand comfortable time      1\n",
      "900                             good buy compact iphone      1\n",
      "901                     great product worth every penny      1\n",
      "\n",
      "[2079 rows x 2 columns]\n"
     ]
    }
   ],
   "source": [
    "# Data Frame containing only Trust and Cleaned Detailed Review\n",
    "df_new=df[['Cleaned Detailed Review','Trust']]\n",
    "print(df_new)"
   ]
  },
  {
   "cell_type": "code",
   "execution_count": 105,
   "id": "drtkHJVKA1mv",
   "metadata": {
    "executionInfo": {
     "elapsed": 11,
     "status": "ok",
     "timestamp": 1638859071190,
     "user": {
      "displayName": "PARESH CHAUDHARI",
      "photoUrl": "https://lh3.googleusercontent.com/a-/AOh14GgHEN2974O1ec2_7AW7aAev1MA2cjhyjrfmx-n8Fw=s64",
      "userId": "13612978007001828393"
     },
     "user_tz": -330
    },
    "id": "drtkHJVKA1mv"
   },
   "outputs": [],
   "source": [
    "# Exporting to Excel\n",
    "df_new.to_excel(\"output.xlsx\") "
   ]
  }
 ],
 "metadata": {
  "colab": {
   "name": "Preprocessing.ipynb",
   "provenance": []
  },
  "kernelspec": {
   "display_name": "Python 3 (ipykernel)",
   "language": "python",
   "name": "python3"
  },
  "language_info": {
   "codemirror_mode": {
    "name": "ipython",
    "version": 3
   },
   "file_extension": ".py",
   "mimetype": "text/x-python",
   "name": "python",
   "nbconvert_exporter": "python",
   "pygments_lexer": "ipython3",
   "version": "3.9.7"
  }
 },
 "nbformat": 4,
 "nbformat_minor": 5
}
