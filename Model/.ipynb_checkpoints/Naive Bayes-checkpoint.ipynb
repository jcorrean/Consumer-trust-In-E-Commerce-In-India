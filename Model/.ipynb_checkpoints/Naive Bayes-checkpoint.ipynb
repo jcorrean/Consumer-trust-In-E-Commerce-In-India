{
 "cells": [
  {
   "cell_type": "code",
   "execution_count": 1,
   "metadata": {
    "id": "NDeqm-COOHQ9"
   },
   "outputs": [],
   "source": [
    "#importing libraries\n",
    "import pandas as pd\n",
    "from sklearn.feature_extraction.text import TfidfVectorizer\n",
    "from sklearn.model_selection import train_test_split\n",
    "from sklearn.naive_bayes import MultinomialNB\n",
    "from sklearn import metrics\n",
    "import matplotlib.pyplot as plt\n",
    "import seaborn as sns"
   ]
  },
  {
   "cell_type": "code",
   "execution_count": 6,
   "metadata": {},
   "outputs": [],
   "source": [
    "plt.rcParams['figure.dpi'] = 300\n",
    "plt.rcParams['savefig.dpi'] = 300"
   ]
  },
  {
   "cell_type": "code",
   "execution_count": 3,
   "metadata": {
    "colab": {
     "base_uri": "https://localhost:8080/",
     "height": 363
    },
    "id": "4FyPnertO8YD",
    "outputId": "6df94bcd-6466-4da1-9ee4-765d8fe3db14"
   },
   "outputs": [
    {
     "data": {
      "text/html": [
       "<div>\n",
       "<style scoped>\n",
       "    .dataframe tbody tr th:only-of-type {\n",
       "        vertical-align: middle;\n",
       "    }\n",
       "\n",
       "    .dataframe tbody tr th {\n",
       "        vertical-align: top;\n",
       "    }\n",
       "\n",
       "    .dataframe thead th {\n",
       "        text-align: right;\n",
       "    }\n",
       "</style>\n",
       "<table border=\"1\" class=\"dataframe\">\n",
       "  <thead>\n",
       "    <tr style=\"text-align: right;\">\n",
       "      <th></th>\n",
       "      <th>Unnamed: 0</th>\n",
       "      <th>Cleaned Detailed Review</th>\n",
       "      <th>Trust</th>\n",
       "    </tr>\n",
       "  </thead>\n",
       "  <tbody>\n",
       "    <tr>\n",
       "      <th>0</th>\n",
       "      <td>1408</td>\n",
       "      <td>nice phone worth money price point else ask th...</td>\n",
       "      <td>1</td>\n",
       "    </tr>\n",
       "    <tr>\n",
       "      <th>1</th>\n",
       "      <td>1928</td>\n",
       "      <td>smartphone impressed camera battery backup goo...</td>\n",
       "      <td>1</td>\n",
       "    </tr>\n",
       "    <tr>\n",
       "      <th>2</th>\n",
       "      <td>1409</td>\n",
       "      <td>usual value money device one thing attracts st...</td>\n",
       "      <td>1</td>\n",
       "    </tr>\n",
       "    <tr>\n",
       "      <th>3</th>\n",
       "      <td>4</td>\n",
       "      <td>best mobile price range battery backup highlig...</td>\n",
       "      <td>1</td>\n",
       "    </tr>\n",
       "    <tr>\n",
       "      <th>4</th>\n",
       "      <td>1410</td>\n",
       "      <td>quality wise good good performance prize cam q...</td>\n",
       "      <td>1</td>\n",
       "    </tr>\n",
       "    <tr>\n",
       "      <th>5</th>\n",
       "      <td>1</td>\n",
       "      <td>first would like thank flippant fastest delive...</td>\n",
       "      <td>1</td>\n",
       "    </tr>\n",
       "    <tr>\n",
       "      <th>6</th>\n",
       "      <td>2</td>\n",
       "      <td>smartphone good camera battery value money sas...</td>\n",
       "      <td>1</td>\n",
       "    </tr>\n",
       "    <tr>\n",
       "      <th>7</th>\n",
       "      <td>515</td>\n",
       "      <td>nice product fully satisfied thankyou flippant...</td>\n",
       "      <td>1</td>\n",
       "    </tr>\n",
       "    <tr>\n",
       "      <th>8</th>\n",
       "      <td>1415</td>\n",
       "      <td>using phone three day speed good display cool ...</td>\n",
       "      <td>1</td>\n",
       "    </tr>\n",
       "    <tr>\n",
       "      <th>9</th>\n",
       "      <td>1463</td>\n",
       "      <td>super 48 camera like</td>\n",
       "      <td>1</td>\n",
       "    </tr>\n",
       "  </tbody>\n",
       "</table>\n",
       "</div>"
      ],
      "text/plain": [
       "   Unnamed: 0                            Cleaned Detailed Review  Trust\n",
       "0        1408  nice phone worth money price point else ask th...      1\n",
       "1        1928  smartphone impressed camera battery backup goo...      1\n",
       "2        1409  usual value money device one thing attracts st...      1\n",
       "3           4  best mobile price range battery backup highlig...      1\n",
       "4        1410  quality wise good good performance prize cam q...      1\n",
       "5           1  first would like thank flippant fastest delive...      1\n",
       "6           2  smartphone good camera battery value money sas...      1\n",
       "7         515  nice product fully satisfied thankyou flippant...      1\n",
       "8        1415  using phone three day speed good display cool ...      1\n",
       "9        1463                               super 48 camera like      1"
      ]
     },
     "execution_count": 3,
     "metadata": {},
     "output_type": "execute_result"
    }
   ],
   "source": [
    "#loading dataset\n",
    "df = pd.read_excel('/home/jc/Documents/GitHub/Consumer-trust-In-E-Commerce-In-India/Data/Clean Data/1_Mobiles.xlsx')  \n",
    "#Viewing dataset\n",
    "df.head(10)  "
   ]
  },
  {
   "cell_type": "code",
   "execution_count": 4,
   "metadata": {
    "colab": {
     "base_uri": "https://localhost:8080/"
    },
    "id": "7Vja47G7DhYe",
    "outputId": "15c7eb8e-e484-4769-ffe7-5cc5c213f8c9"
   },
   "outputs": [
    {
     "data": {
      "text/plain": [
       "(1485, 3)"
      ]
     },
     "execution_count": 4,
     "metadata": {},
     "output_type": "execute_result"
    }
   ],
   "source": [
    "#to  display number of rows and column in our dataset\n",
    "df.shape  "
   ]
  },
  {
   "cell_type": "code",
   "execution_count": 5,
   "metadata": {
    "colab": {
     "base_uri": "https://localhost:8080/"
    },
    "id": "yYwGuGlBPUib",
    "outputId": "46269f8e-95fe-4e47-dd6e-2763831e0653"
   },
   "outputs": [
    {
     "data": {
      "text/plain": [
       "(1482, 3)"
      ]
     },
     "execution_count": 5,
     "metadata": {},
     "output_type": "execute_result"
    }
   ],
   "source": [
    "#removing null comments  from review column\n",
    "df = df[df['Cleaned Detailed Review'].notna()]    \n",
    "df.shape"
   ]
  },
  {
   "cell_type": "code",
   "execution_count": 7,
   "metadata": {
    "id": "L8g6t5V2P6-u"
   },
   "outputs": [],
   "source": [
    "# balancing data in such a way that we are having equal zeros and ones\n",
    "high_review = df[df['Trust']==1]\n",
    "low_review = df[df['Trust']==0]\n",
    "df_high_new = high_review.sample(low_review.shape[0])\n",
    "df= pd.concat([df_high_new, low_review])"
   ]
  },
  {
   "cell_type": "code",
   "execution_count": 8,
   "metadata": {
    "colab": {
     "base_uri": "https://localhost:8080/"
    },
    "id": "MGP01ZU0SNrS",
    "outputId": "8c06b740-4b7b-41cb-e668-1195205d209c"
   },
   "outputs": [
    {
     "data": {
      "text/plain": [
       "1    461\n",
       "0    461\n",
       "Name: Trust, dtype: int64"
      ]
     },
     "execution_count": 8,
     "metadata": {},
     "output_type": "execute_result"
    }
   ],
   "source": [
    "df['Trust'].value_counts()"
   ]
  },
  {
   "cell_type": "code",
   "execution_count": 9,
   "metadata": {
    "id": "dlHV5LP_7koH"
   },
   "outputs": [],
   "source": [
    "#Converting Cleaned detailed review column to a matrix of TF-IDF features\n",
    "from sklearn.feature_extraction.text import TfidfVectorizer\n",
    "tf=TfidfVectorizer()\n",
    "text_tf= tf.fit_transform(df['Cleaned Detailed Review'])  "
   ]
  },
  {
   "cell_type": "code",
   "execution_count": 10,
   "metadata": {
    "colab": {
     "base_uri": "https://localhost:8080/"
    },
    "id": "JqLLEhAS70iB",
    "outputId": "499a070a-4c4c-473c-ae6e-2fcf09744269"
   },
   "outputs": [
    {
     "name": "stdout",
     "output_type": "stream",
     "text": [
      "  (0, 863)\t0.5640985206944322\n",
      "  (0, 1195)\t0.4325088817997415\n",
      "  (0, 2043)\t0.43954404596343233\n",
      "  (0, 1178)\t0.3750603833017976\n",
      "  (0, 1245)\t0.4010731437659411\n",
      "  (1, 1099)\t0.8173208627163406\n",
      "  (1, 1388)\t0.3995347333280655\n",
      "  (1, 804)\t0.41516093774955337\n",
      "  (2, 799)\t0.26787853777470383\n",
      "  (2, 1772)\t0.38966485563020664\n",
      "  (2, 508)\t0.38081837893296466\n",
      "  (2, 1472)\t0.47266060809064103\n",
      "  (2, 1467)\t0.21688663051289106\n",
      "  (2, 213)\t0.23254742589240898\n",
      "  (2, 983)\t0.2869375223336021\n",
      "  (2, 629)\t0.33917295198155506\n",
      "  (2, 730)\t0.33088087319967885\n",
      "  (3, 932)\t0.5779831969466636\n",
      "  (3, 175)\t0.6968326099081218\n",
      "  (3, 1388)\t0.22904189514520829\n",
      "  (3, 1245)\t0.35763046302607\n",
      "  (4, 1622)\t0.3641227578572889\n",
      "  (4, 228)\t0.45215423537906807\n",
      "  (4, 1221)\t0.3221074817000984\n",
      "  (4, 1442)\t0.379549217970654\n",
      "  :\t:\n",
      "  (919, 1285)\t0.36687977312360687\n",
      "  (919, 1388)\t0.19837507237296098\n",
      "  (920, 1355)\t0.6994723104271899\n",
      "  (920, 1822)\t0.6161721339866619\n",
      "  (920, 1535)\t0.36203644601610496\n",
      "  (921, 899)\t0.2918290377942133\n",
      "  (921, 72)\t0.26347652765778523\n",
      "  (921, 579)\t0.2468913724266583\n",
      "  (921, 2004)\t0.2752438825630864\n",
      "  (921, 326)\t0.25434905808429026\n",
      "  (921, 276)\t0.21223347891002375\n",
      "  (921, 437)\t0.26347652765778523\n",
      "  (921, 83)\t0.22599654794786217\n",
      "  (921, 1611)\t0.25434905808429026\n",
      "  (921, 2066)\t0.21853886229023017\n",
      "  (921, 1165)\t0.1824455925237118\n",
      "  (921, 1031)\t0.206771507384929\n",
      "  (921, 1790)\t0.19974214004692034\n",
      "  (921, 1778)\t0.19564832367889684\n",
      "  (921, 917)\t0.22599654794786217\n",
      "  (921, 229)\t0.21197998187380887\n",
      "  (921, 834)\t0.16447372734918025\n",
      "  (921, 799)\t0.16539295762409134\n",
      "  (921, 983)\t0.17716031252939254\n",
      "  (921, 1388)\t0.17320418810185953\n"
     ]
    }
   ],
   "source": [
    "#Displaying matrix form of column \n",
    "print(text_tf)  "
   ]
  },
  {
   "cell_type": "code",
   "execution_count": 11,
   "metadata": {
    "id": "EtpNbQNyA2NN"
   },
   "outputs": [],
   "source": [
    "#splitting data into train and test data using train_test_split\n",
    "from sklearn.model_selection import train_test_split\n",
    "X_train, X_test, y_train, y_test = train_test_split(text_tf, df['Trust'], test_size=0.3, random_state=1,stratify=df['Trust'])"
   ]
  },
  {
   "cell_type": "code",
   "execution_count": 12,
   "metadata": {
    "id": "7oC9oiEK8xTO"
   },
   "outputs": [],
   "source": [
    "#applying MultinomialNB to our data \n",
    "from sklearn.naive_bayes import MultinomialNB\n",
    "from sklearn import metrics\n",
    "#putting traaining data\n",
    "clf = MultinomialNB().fit(X_train, y_train)  \n",
    "y_predicted= clf.predict(X_test)"
   ]
  },
  {
   "cell_type": "code",
   "execution_count": 13,
   "metadata": {
    "colab": {
     "base_uri": "https://localhost:8080/"
    },
    "id": "o_gny6J-CRJb",
    "outputId": "23003c6c-6201-49b2-be08-0fe295d38f4c"
   },
   "outputs": [
    {
     "data": {
      "text/plain": [
       "array([[112,  26],\n",
       "       [ 16, 123]])"
      ]
     },
     "execution_count": 13,
     "metadata": {},
     "output_type": "execute_result"
    }
   ],
   "source": [
    "from sklearn.metrics import confusion_matrix, classification_report\n",
    "cm = confusion_matrix(y_test, y_predicted)\n",
    "cm "
   ]
  },
  {
   "cell_type": "code",
   "execution_count": 14,
   "metadata": {
    "colab": {
     "base_uri": "https://localhost:8080/",
     "height": 279
    },
    "id": "3kreY7nsEwvY",
    "outputId": "a44aaa79-c398-4a0a-9f3d-949c8c4522f8"
   },
   "outputs": [
    {
     "data": {
      "image/png": "[encoded data removed]",
      "text/plain": [
       "<Figure size 1800x1200 with 2 Axes>"
      ]
     },
     "metadata": {
      "needs_background": "light"
     },
     "output_type": "display_data"
    }
   ],
   "source": [
    "#plotting heatmap\n",
    "sns.heatmap(cm,annot=True, fmt='1', cmap='Blues')\n",
    "plt.xlabel('Predicted')\n",
    "plt.ylabel('Truth')\n",
    "plt.show()"
   ]
  },
  {
   "cell_type": "code",
   "execution_count": 15,
   "metadata": {
    "colab": {
     "base_uri": "https://localhost:8080/"
    },
    "id": "sL5MkYBUHXi-",
    "outputId": "dda985a3-3990-4aec-951f-091c9129c340"
   },
   "outputs": [
    {
     "name": "stdout",
     "output_type": "stream",
     "text": [
      "              precision    recall  f1-score   support\n",
      "\n",
      "           0       0.88      0.81      0.84       138\n",
      "           1       0.83      0.88      0.85       139\n",
      "\n",
      "    accuracy                           0.85       277\n",
      "   macro avg       0.85      0.85      0.85       277\n",
      "weighted avg       0.85      0.85      0.85       277\n",
      "\n"
     ]
    }
   ],
   "source": [
    "print(classification_report(y_test, y_predicted))"
   ]
  },
  {
   "cell_type": "code",
   "execution_count": null,
   "metadata": {
    "id": "rvhSnWqcuut3"
   },
   "outputs": [],
   "source": []
  }
 ],
 "metadata": {
  "colab": {
   "collapsed_sections": [],
   "name": "mobile_tfidf.ipynb",
   "provenance": []
  },
  "kernelspec": {
   "display_name": "Python 3 (ipykernel)",
   "language": "python",
   "name": "python3"
  },
  "language_info": {
   "codemirror_mode": {
    "name": "ipython",
    "version": 3
   },
   "file_extension": ".py",
   "mimetype": "text/x-python",
   "name": "python",
   "nbconvert_exporter": "python",
   "pygments_lexer": "ipython3",
   "version": "3.9.7"
  }
 },
 "nbformat": 4,
 "nbformat_minor": 1
}
