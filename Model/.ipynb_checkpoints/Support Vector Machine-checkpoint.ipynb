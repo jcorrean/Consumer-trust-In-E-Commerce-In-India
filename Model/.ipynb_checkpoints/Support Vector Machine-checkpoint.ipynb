{
 "cells": [
  {
   "cell_type": "code",
   "execution_count": 1,
   "metadata": {},
   "outputs": [
    {
     "name": "stdout",
     "output_type": "stream",
     "text": [
      "Collecting sklearn\n",
      "  Downloading sklearn-0.0.tar.gz (1.1 kB)\n",
      "Requirement already satisfied: scikit-learn in /home/jc/anaconda3/lib/python3.9/site-packages (from sklearn) (1.0.2)\n",
      "Requirement already satisfied: numpy>=1.14.6 in /home/jc/anaconda3/lib/python3.9/site-packages (from scikit-learn->sklearn) (1.20.3)\n",
      "Requirement already satisfied: scipy>=1.1.0 in /home/jc/anaconda3/lib/python3.9/site-packages (from scikit-learn->sklearn) (1.7.1)\n",
      "Requirement already satisfied: joblib>=0.11 in /home/jc/anaconda3/lib/python3.9/site-packages (from scikit-learn->sklearn) (1.1.0)\n",
      "Requirement already satisfied: threadpoolctl>=2.0.0 in /home/jc/anaconda3/lib/python3.9/site-packages (from scikit-learn->sklearn) (2.2.0)\n",
      "Building wheels for collected packages: sklearn\n",
      "  Building wheel for sklearn (setup.py) ... \u001b[?25ldone\n",
      "\u001b[?25h  Created wheel for sklearn: filename=sklearn-0.0-py2.py3-none-any.whl size=1309 sha256=ade03e0d56b9cf071a701f4b01e87e145a9a1f343aa8713ce317e39874e4a41d\n",
      "  Stored in directory: /home/jc/.cache/pip/wheels/e4/7b/98/b6466d71b8d738a0c547008b9eb39bf8676d1ff6ca4b22af1c\n",
      "Successfully built sklearn\n",
      "Installing collected packages: sklearn\n",
      "Successfully installed sklearn-0.0\n",
      "Note: you may need to restart the kernel to use updated packages.\n"
     ]
    }
   ],
   "source": [
    "pip install sklearn"
   ]
  },
  {
   "cell_type": "code",
   "execution_count": 43,
   "metadata": {
    "id": "NDeqm-COOHQ9"
   },
   "outputs": [],
   "source": [
    "#importing libraries\n",
    "import pandas as pd\n",
    "from sklearn.feature_extraction.text import TfidfVectorizer\n",
    "from sklearn.model_selection import train_test_split\n",
    "from sklearn import model_selection, svm\n",
    "from sklearn import metrics\n",
    "import matplotlib.pyplot as plt\n",
    "import seaborn as sns"
   ]
  },
  {
   "cell_type": "code",
   "execution_count": 44,
   "metadata": {
    "colab": {
     "base_uri": "https://localhost:8080/",
     "height": 363
    },
    "id": "4FyPnertO8YD",
    "outputId": "79a9d2bd-045b-4de6-f711-ac0069766ed4"
   },
   "outputs": [
    {
     "data": {
      "text/html": [
       "\n",
       "  <div id=\"df-8ead559f-3b8c-4d40-9b2f-1ab53749dee5\">\n",
       "    <div class=\"colab-df-container\">\n",
       "      <div>\n",
       "<style scoped>\n",
       "    .dataframe tbody tr th:only-of-type {\n",
       "        vertical-align: middle;\n",
       "    }\n",
       "\n",
       "    .dataframe tbody tr th {\n",
       "        vertical-align: top;\n",
       "    }\n",
       "\n",
       "    .dataframe thead th {\n",
       "        text-align: right;\n",
       "    }\n",
       "</style>\n",
       "<table border=\"1\" class=\"dataframe\">\n",
       "  <thead>\n",
       "    <tr style=\"text-align: right;\">\n",
       "      <th></th>\n",
       "      <th>Unnamed: 0</th>\n",
       "      <th>Cleaned Detailed Review</th>\n",
       "      <th>Trust</th>\n",
       "    </tr>\n",
       "  </thead>\n",
       "  <tbody>\n",
       "    <tr>\n",
       "      <th>0</th>\n",
       "      <td>904</td>\n",
       "      <td>really effective hair fall reduced drastically...</td>\n",
       "      <td>1</td>\n",
       "    </tr>\n",
       "    <tr>\n",
       "      <th>1</th>\n",
       "      <td>899</td>\n",
       "      <td>best hairball protection oil really work great</td>\n",
       "      <td>1</td>\n",
       "    </tr>\n",
       "    <tr>\n",
       "      <th>2</th>\n",
       "      <td>125</td>\n",
       "      <td>170 almond i</td>\n",
       "      <td>1</td>\n",
       "    </tr>\n",
       "    <tr>\n",
       "      <th>3</th>\n",
       "      <td>916</td>\n",
       "      <td>product good offer also goodplease reduceavoid...</td>\n",
       "      <td>1</td>\n",
       "    </tr>\n",
       "    <tr>\n",
       "      <th>4</th>\n",
       "      <td>261</td>\n",
       "      <td>awesome blossom damage quality quantity good c...</td>\n",
       "      <td>1</td>\n",
       "    </tr>\n",
       "    <tr>\n",
       "      <th>5</th>\n",
       "      <td>902</td>\n",
       "      <td>product good dont know result actionbut flippa...</td>\n",
       "      <td>1</td>\n",
       "    </tr>\n",
       "    <tr>\n",
       "      <th>6</th>\n",
       "      <td>900</td>\n",
       "      <td>fast delivery receive good packaging originall...</td>\n",
       "      <td>1</td>\n",
       "    </tr>\n",
       "    <tr>\n",
       "      <th>7</th>\n",
       "      <td>914</td>\n",
       "      <td>using product since 2 month yes working reduce...</td>\n",
       "      <td>1</td>\n",
       "    </tr>\n",
       "    <tr>\n",
       "      <th>8</th>\n",
       "      <td>0</td>\n",
       "      <td>good quality protein food worth buying u never...</td>\n",
       "      <td>1</td>\n",
       "    </tr>\n",
       "    <tr>\n",
       "      <th>9</th>\n",
       "      <td>908</td>\n",
       "      <td>used three bottle didnt get desired result fre...</td>\n",
       "      <td>0</td>\n",
       "    </tr>\n",
       "  </tbody>\n",
       "</table>\n",
       "</div>\n",
       "      <button class=\"colab-df-convert\" onclick=\"convertToInteractive('df-8ead559f-3b8c-4d40-9b2f-1ab53749dee5')\"\n",
       "              title=\"Convert this dataframe to an interactive table.\"\n",
       "              style=\"display:none;\">\n",
       "        \n",
       "  <svg xmlns=\"http://www.w3.org/2000/svg\" height=\"24px\"viewBox=\"0 0 24 24\"\n",
       "       width=\"24px\">\n",
       "    <path d=\"M0 0h24v24H0V0z\" fill=\"none\"/>\n",
       "    <path d=\"M18.56 5.44l.94 2.06.94-2.06 2.06-.94-2.06-.94-.94-2.06-.94 2.06-2.06.94zm-11 1L8.5 8.5l.94-2.06 2.06-.94-2.06-.94L8.5 2.5l-.94 2.06-2.06.94zm10 10l.94 2.06.94-2.06 2.06-.94-2.06-.94-.94-2.06-.94 2.06-2.06.94z\"/><path d=\"M17.41 7.96l-1.37-1.37c-.4-.4-.92-.59-1.43-.59-.52 0-1.04.2-1.43.59L10.3 9.45l-7.72 7.72c-.78.78-.78 2.05 0 2.83L4 21.41c.39.39.9.59 1.41.59.51 0 1.02-.2 1.41-.59l7.78-7.78 2.81-2.81c.8-.78.8-2.07 0-2.86zM5.41 20L4 18.59l7.72-7.72 1.47 1.35L5.41 20z\"/>\n",
       "  </svg>\n",
       "      </button>\n",
       "      \n",
       "  <style>\n",
       "    .colab-df-container {\n",
       "      display:flex;\n",
       "      flex-wrap:wrap;\n",
       "      gap: 12px;\n",
       "    }\n",
       "\n",
       "    .colab-df-convert {\n",
       "      background-color: #E8F0FE;\n",
       "      border: none;\n",
       "      border-radius: 50%;\n",
       "      cursor: pointer;\n",
       "      display: none;\n",
       "      fill: #1967D2;\n",
       "      height: 32px;\n",
       "      padding: 0 0 0 0;\n",
       "      width: 32px;\n",
       "    }\n",
       "\n",
       "    .colab-df-convert:hover {\n",
       "      background-color: #E2EBFA;\n",
       "      box-shadow: 0px 1px 2px rgba(60, 64, 67, 0.3), 0px 1px 3px 1px rgba(60, 64, 67, 0.15);\n",
       "      fill: #174EA6;\n",
       "    }\n",
       "\n",
       "    [theme=dark] .colab-df-convert {\n",
       "      background-color: #3B4455;\n",
       "      fill: #D2E3FC;\n",
       "    }\n",
       "\n",
       "    [theme=dark] .colab-df-convert:hover {\n",
       "      background-color: #434B5C;\n",
       "      box-shadow: 0px 1px 3px 1px rgba(0, 0, 0, 0.15);\n",
       "      filter: drop-shadow(0px 1px 2px rgba(0, 0, 0, 0.3));\n",
       "      fill: #FFFFFF;\n",
       "    }\n",
       "  </style>\n",
       "\n",
       "      <script>\n",
       "        const buttonEl =\n",
       "          document.querySelector('#df-8ead559f-3b8c-4d40-9b2f-1ab53749dee5 button.colab-df-convert');\n",
       "        buttonEl.style.display =\n",
       "          google.colab.kernel.accessAllowed ? 'block' : 'none';\n",
       "\n",
       "        async function convertToInteractive(key) {\n",
       "          const element = document.querySelector('#df-8ead559f-3b8c-4d40-9b2f-1ab53749dee5');\n",
       "          const dataTable =\n",
       "            await google.colab.kernel.invokeFunction('convertToInteractive',\n",
       "                                                     [key], {});\n",
       "          if (!dataTable) return;\n",
       "\n",
       "          const docLinkHtml = 'Like what you see? Visit the ' +\n",
       "            '<a target=\"_blank\" href=https://colab.research.google.com/notebooks/data_table.ipynb>data table notebook</a>'\n",
       "            + ' to learn more about interactive tables.';\n",
       "          element.innerHTML = '';\n",
       "          dataTable['output_type'] = 'display_data';\n",
       "          await google.colab.output.renderOutput(dataTable, element);\n",
       "          const docLink = document.createElement('div');\n",
       "          docLink.innerHTML = docLinkHtml;\n",
       "          element.appendChild(docLink);\n",
       "        }\n",
       "      </script>\n",
       "    </div>\n",
       "  </div>\n",
       "  "
      ],
      "text/plain": [
       "   Unnamed: 0                            Cleaned Detailed Review  Trust\n",
       "0         904  really effective hair fall reduced drastically...      1\n",
       "1         899     best hairball protection oil really work great      1\n",
       "2         125                                       170 almond i      1\n",
       "3         916  product good offer also goodplease reduceavoid...      1\n",
       "4         261  awesome blossom damage quality quantity good c...      1\n",
       "5         902  product good dont know result actionbut flippa...      1\n",
       "6         900  fast delivery receive good packaging originall...      1\n",
       "7         914  using product since 2 month yes working reduce...      1\n",
       "8           0  good quality protein food worth buying u never...      1\n",
       "9         908  used three bottle didnt get desired result fre...      0"
      ]
     },
     "execution_count": 44,
     "metadata": {},
     "output_type": "execute_result"
    }
   ],
   "source": [
    "#loading dataset\n",
    "df = pd.read_excel('9_Groceries.xlsx')  \n",
    "#Viewing dataset\n",
    "df.head(10)  "
   ]
  },
  {
   "cell_type": "code",
   "execution_count": 45,
   "metadata": {
    "colab": {
     "base_uri": "https://localhost:8080/"
    },
    "id": "7Vja47G7DhYe",
    "outputId": "ba4c6d85-c383-45bc-8ee0-758e098d5522"
   },
   "outputs": [
    {
     "data": {
      "text/plain": [
       "(783, 3)"
      ]
     },
     "execution_count": 45,
     "metadata": {},
     "output_type": "execute_result"
    }
   ],
   "source": [
    "#to  display number of rows and column in our dataset\n",
    "df.shape  "
   ]
  },
  {
   "cell_type": "code",
   "execution_count": 46,
   "metadata": {
    "colab": {
     "base_uri": "https://localhost:8080/"
    },
    "id": "yYwGuGlBPUib",
    "outputId": "eab2d688-dba6-4967-e709-f01085f601ff"
   },
   "outputs": [
    {
     "data": {
      "text/plain": [
       "(779, 3)"
      ]
     },
     "execution_count": 46,
     "metadata": {},
     "output_type": "execute_result"
    }
   ],
   "source": [
    "#removing null comments  from review column\n",
    "df = df[df['Cleaned Detailed Review'].notna()]    \n",
    "df.shape"
   ]
  },
  {
   "cell_type": "code",
   "execution_count": 47,
   "metadata": {
    "id": "L8g6t5V2P6-u"
   },
   "outputs": [],
   "source": [
    "# balancing data in such a way that we are having equal zeros and ones\n",
    "high_review = df[df['Trust']==1]\n",
    "low_review = df[df['Trust']==0]\n",
    "df_high_new = high_review.sample(low_review.shape[0])\n",
    "df= pd.concat([df_high_new, low_review])"
   ]
  },
  {
   "cell_type": "code",
   "execution_count": 48,
   "metadata": {
    "colab": {
     "base_uri": "https://localhost:8080/"
    },
    "id": "MGP01ZU0SNrS",
    "outputId": "2d31a11f-0e32-4c92-8d70-6ec858c91615"
   },
   "outputs": [
    {
     "data": {
      "text/plain": [
       "1    253\n",
       "0    253\n",
       "Name: Trust, dtype: int64"
      ]
     },
     "execution_count": 48,
     "metadata": {},
     "output_type": "execute_result"
    }
   ],
   "source": [
    "df['Trust'].value_counts()"
   ]
  },
  {
   "cell_type": "code",
   "execution_count": 49,
   "metadata": {
    "id": "dlHV5LP_7koH"
   },
   "outputs": [],
   "source": [
    "#Converting Cleaned detailed review column to a matrix of TF-IDF features\n",
    "from sklearn.feature_extraction.text import TfidfVectorizer\n",
    "tf=TfidfVectorizer()\n",
    "text_tf= tf.fit_transform(df['Cleaned Detailed Review'])  "
   ]
  },
  {
   "cell_type": "code",
   "execution_count": 50,
   "metadata": {
    "colab": {
     "base_uri": "https://localhost:8080/"
    },
    "id": "JqLLEhAS70iB",
    "outputId": "17c84499-13d0-4dee-b307-5c6ecbfe5302"
   },
   "outputs": [
    {
     "name": "stdout",
     "output_type": "stream",
     "text": [
      "  (0, 406)\t0.17531089169846215\n",
      "  (0, 811)\t0.24771865283043773\n",
      "  (0, 505)\t0.24771865283043773\n",
      "  (0, 301)\t0.21347804066334675\n",
      "  (0, 623)\t0.24771865283043773\n",
      "  (0, 221)\t0.24771865283043773\n",
      "  (0, 203)\t0.26410412264346755\n",
      "  (0, 573)\t0.24771865283043773\n",
      "  (0, 991)\t0.26410412264346755\n",
      "  (0, 845)\t0.4394150143419297\n",
      "  (0, 863)\t0.4161636626490436\n",
      "  (0, 350)\t0.26410412264346755\n",
      "  (0, 132)\t0.20332203735793503\n",
      "  (1, 427)\t0.5024042621785674\n",
      "  (1, 548)\t0.3725138434771137\n",
      "  (1, 616)\t0.3725138434771137\n",
      "  (1, 783)\t0.2539862783785504\n",
      "  (1, 836)\t0.3330046551109259\n",
      "  (1, 252)\t0.2539862783785504\n",
      "  (1, 980)\t0.24727267948844134\n",
      "  (1, 818)\t0.3494024498489653\n",
      "  (1, 713)\t0.11324497143397473\n",
      "  (1, 617)\t0.18465209749410522\n",
      "  (2, 322)\t0.7547933370362635\n",
      "  (2, 128)\t0.5877656029372909\n",
      "  :\t:\n",
      "  (500, 741)\t0.23654028829443585\n",
      "  (500, 828)\t0.32680168014647976\n",
      "  (501, 591)\t0.6047835074866399\n",
      "  (501, 546)\t0.6047835074866399\n",
      "  (501, 532)\t0.4420548362741031\n",
      "  (501, 410)\t0.27029861241040504\n",
      "  (502, 336)\t0.6029344913141252\n",
      "  (502, 1006)\t0.6029344913141252\n",
      "  (502, 961)\t0.4845121871143716\n",
      "  (502, 713)\t0.1954173454563384\n",
      "  (503, 1013)\t0.6789387732311253\n",
      "  (503, 613)\t0.5349209314762323\n",
      "  (503, 108)\t0.33092757859173516\n",
      "  (503, 157)\t0.37866697373737984\n",
      "  (504, 321)\t0.3998420812025794\n",
      "  (504, 1010)\t0.3580163495231948\n",
      "  (504, 493)\t0.3998420812025794\n",
      "  (504, 532)\t0.2747564030471029\n",
      "  (504, 521)\t0.3998420812025794\n",
      "  (504, 293)\t0.24840133986620758\n",
      "  (504, 143)\t0.30869337280467735\n",
      "  (504, 859)\t0.2853176758363785\n",
      "  (504, 828)\t0.279841281000402\n",
      "  (505, 108)\t0.7456673439780773\n",
      "  (505, 741)\t0.6663184014603528\n"
     ]
    }
   ],
   "source": [
    "#Displaying matrix form of column \n",
    "print(text_tf)  "
   ]
  },
  {
   "cell_type": "code",
   "execution_count": 51,
   "metadata": {
    "id": "EtpNbQNyA2NN"
   },
   "outputs": [],
   "source": [
    "#splitting data into train and test data using train_test_split\n",
    "from sklearn.model_selection import train_test_split\n",
    "X_train, X_test, y_train, y_test = train_test_split(text_tf, df['Trust'], test_size=0.3, random_state=1,stratify=df['Trust'])"
   ]
  },
  {
   "cell_type": "code",
   "execution_count": 52,
   "metadata": {
    "id": "7oC9oiEK8xTO"
   },
   "outputs": [],
   "source": [
    "\n",
    "\n",
    "#putting traaining data\n",
    "SVM = svm.SVC(C=1.0, kernel='linear', degree=3, gamma='auto')\n",
    "ml=SVM.fit(X_train, y_train)\n",
    "y_predicted= ml.predict(X_test)"
   ]
  },
  {
   "cell_type": "code",
   "execution_count": 53,
   "metadata": {
    "colab": {
     "base_uri": "https://localhost:8080/"
    },
    "id": "o_gny6J-CRJb",
    "outputId": "d9da6af9-5633-4beb-ec91-2f920acd039e"
   },
   "outputs": [
    {
     "data": {
      "text/plain": [
       "array([[61, 15],\n",
       "       [15, 61]])"
      ]
     },
     "execution_count": 53,
     "metadata": {},
     "output_type": "execute_result"
    }
   ],
   "source": [
    "from sklearn.metrics import confusion_matrix, classification_report\n",
    "cm = confusion_matrix(y_test, y_predicted)\n",
    "cm "
   ]
  },
  {
   "cell_type": "code",
   "execution_count": 54,
   "metadata": {
    "colab": {
     "base_uri": "https://localhost:8080/",
     "height": 279
    },
    "id": "3kreY7nsEwvY",
    "outputId": "ff158c7b-f493-4a10-8979-f768e9d07c4d"
   },
   "outputs": [
    {
     "data": {
      "image/png": "[encoded data removed]",
      "text/plain": [
       "<Figure size 432x288 with 2 Axes>"
      ]
     },
     "metadata": {
      "needs_background": "light"
     },
     "output_type": "display_data"
    }
   ],
   "source": [
    "#plotting heatmap\n",
    "sns.heatmap(cm,annot=True, fmt='1', cmap='Blues')\n",
    "plt.xlabel('Predicted')\n",
    "plt.ylabel('Truth')\n",
    "plt.show()"
   ]
  },
  {
   "cell_type": "code",
   "execution_count": 55,
   "metadata": {
    "colab": {
     "base_uri": "https://localhost:8080/"
    },
    "id": "sL5MkYBUHXi-",
    "outputId": "8cb38f67-3731-4c85-a5c0-bdf23698c11b"
   },
   "outputs": [
    {
     "name": "stdout",
     "output_type": "stream",
     "text": [
      "              precision    recall  f1-score   support\n",
      "\n",
      "           0       0.80      0.80      0.80        76\n",
      "           1       0.80      0.80      0.80        76\n",
      "\n",
      "    accuracy                           0.80       152\n",
      "   macro avg       0.80      0.80      0.80       152\n",
      "weighted avg       0.80      0.80      0.80       152\n",
      "\n"
     ]
    }
   ],
   "source": [
    "print(classification_report(y_test, y_predicted))"
   ]
  },
  {
   "cell_type": "code",
   "execution_count": 55,
   "metadata": {
    "id": "rvhSnWqcuut3"
   },
   "outputs": [],
   "source": []
  }
 ],
 "metadata": {
  "colab": {
   "collapsed_sections": [],
   "name": "Support Vector Machine.ipynb",
   "provenance": []
  },
  "kernelspec": {
   "display_name": "Python 3 (ipykernel)",
   "language": "python",
   "name": "python3"
  },
  "language_info": {
   "codemirror_mode": {
    "name": "ipython",
    "version": 3
   },
   "file_extension": ".py",
   "mimetype": "text/x-python",
   "name": "python",
   "nbconvert_exporter": "python",
   "pygments_lexer": "ipython3",
   "version": "3.9.7"
  }
 },
 "nbformat": 4,
 "nbformat_minor": 1
}
