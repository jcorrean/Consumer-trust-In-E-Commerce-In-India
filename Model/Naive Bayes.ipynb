{
 "cells": [
  {
   "cell_type": "code",
   "execution_count": 13,
   "metadata": {
    "id": "NDeqm-COOHQ9"
   },
   "outputs": [],
   "source": [
    "#importing libraries\n",
    "import pandas as pd\n",
    "from sklearn.feature_extraction.text import TfidfVectorizer\n",
    "from sklearn.model_selection import train_test_split\n",
    "from sklearn.naive_bayes import MultinomialNB\n",
    "from sklearn import metrics\n",
    "import matplotlib.pyplot as plt\n",
    "import seaborn as sns"
   ]
  },
  {
   "cell_type": "code",
   "execution_count": 14,
   "metadata": {
    "colab": {
     "base_uri": "https://localhost:8080/",
     "height": 363
    },
    "id": "4FyPnertO8YD",
    "outputId": "6df94bcd-6466-4da1-9ee4-765d8fe3db14"
   },
   "outputs": [
    {
     "data": {
      "text/html": [
       "\n",
       "  <div id=\"df-d6c91007-b2bc-4194-a82d-51cc944bd101\">\n",
       "    <div class=\"colab-df-container\">\n",
       "      <div>\n",
       "<style scoped>\n",
       "    .dataframe tbody tr th:only-of-type {\n",
       "        vertical-align: middle;\n",
       "    }\n",
       "\n",
       "    .dataframe tbody tr th {\n",
       "        vertical-align: top;\n",
       "    }\n",
       "\n",
       "    .dataframe thead th {\n",
       "        text-align: right;\n",
       "    }\n",
       "</style>\n",
       "<table border=\"1\" class=\"dataframe\">\n",
       "  <thead>\n",
       "    <tr style=\"text-align: right;\">\n",
       "      <th></th>\n",
       "      <th>Unnamed: 0</th>\n",
       "      <th>Cleaned Detailed Review</th>\n",
       "      <th>Trust</th>\n",
       "    </tr>\n",
       "  </thead>\n",
       "  <tbody>\n",
       "    <tr>\n",
       "      <th>0</th>\n",
       "      <td>1408</td>\n",
       "      <td>nice phone worth money price point else ask th...</td>\n",
       "      <td>1</td>\n",
       "    </tr>\n",
       "    <tr>\n",
       "      <th>1</th>\n",
       "      <td>1928</td>\n",
       "      <td>smartphone impressed camera battery backup goo...</td>\n",
       "      <td>1</td>\n",
       "    </tr>\n",
       "    <tr>\n",
       "      <th>2</th>\n",
       "      <td>1409</td>\n",
       "      <td>usual value money device one thing attracts st...</td>\n",
       "      <td>1</td>\n",
       "    </tr>\n",
       "    <tr>\n",
       "      <th>3</th>\n",
       "      <td>4</td>\n",
       "      <td>best mobile price range battery backup highlig...</td>\n",
       "      <td>1</td>\n",
       "    </tr>\n",
       "    <tr>\n",
       "      <th>4</th>\n",
       "      <td>1410</td>\n",
       "      <td>quality wise good good performance prize cam q...</td>\n",
       "      <td>1</td>\n",
       "    </tr>\n",
       "    <tr>\n",
       "      <th>5</th>\n",
       "      <td>1</td>\n",
       "      <td>first would like thank flippant fastest delive...</td>\n",
       "      <td>1</td>\n",
       "    </tr>\n",
       "    <tr>\n",
       "      <th>6</th>\n",
       "      <td>2</td>\n",
       "      <td>smartphone good camera battery value money sas...</td>\n",
       "      <td>1</td>\n",
       "    </tr>\n",
       "    <tr>\n",
       "      <th>7</th>\n",
       "      <td>515</td>\n",
       "      <td>nice product fully satisfied thankyou flippant...</td>\n",
       "      <td>1</td>\n",
       "    </tr>\n",
       "    <tr>\n",
       "      <th>8</th>\n",
       "      <td>1415</td>\n",
       "      <td>using phone three day speed good display cool ...</td>\n",
       "      <td>1</td>\n",
       "    </tr>\n",
       "    <tr>\n",
       "      <th>9</th>\n",
       "      <td>1463</td>\n",
       "      <td>super 48 camera like</td>\n",
       "      <td>1</td>\n",
       "    </tr>\n",
       "  </tbody>\n",
       "</table>\n",
       "</div>\n",
       "      <button class=\"colab-df-convert\" onclick=\"convertToInteractive('df-d6c91007-b2bc-4194-a82d-51cc944bd101')\"\n",
       "              title=\"Convert this dataframe to an interactive table.\"\n",
       "              style=\"display:none;\">\n",
       "        \n",
       "  <svg xmlns=\"http://www.w3.org/2000/svg\" height=\"24px\"viewBox=\"0 0 24 24\"\n",
       "       width=\"24px\">\n",
       "    <path d=\"M0 0h24v24H0V0z\" fill=\"none\"/>\n",
       "    <path d=\"M18.56 5.44l.94 2.06.94-2.06 2.06-.94-2.06-.94-.94-2.06-.94 2.06-2.06.94zm-11 1L8.5 8.5l.94-2.06 2.06-.94-2.06-.94L8.5 2.5l-.94 2.06-2.06.94zm10 10l.94 2.06.94-2.06 2.06-.94-2.06-.94-.94-2.06-.94 2.06-2.06.94z\"/><path d=\"M17.41 7.96l-1.37-1.37c-.4-.4-.92-.59-1.43-.59-.52 0-1.04.2-1.43.59L10.3 9.45l-7.72 7.72c-.78.78-.78 2.05 0 2.83L4 21.41c.39.39.9.59 1.41.59.51 0 1.02-.2 1.41-.59l7.78-7.78 2.81-2.81c.8-.78.8-2.07 0-2.86zM5.41 20L4 18.59l7.72-7.72 1.47 1.35L5.41 20z\"/>\n",
       "  </svg>\n",
       "      </button>\n",
       "      \n",
       "  <style>\n",
       "    .colab-df-container {\n",
       "      display:flex;\n",
       "      flex-wrap:wrap;\n",
       "      gap: 12px;\n",
       "    }\n",
       "\n",
       "    .colab-df-convert {\n",
       "      background-color: #E8F0FE;\n",
       "      border: none;\n",
       "      border-radius: 50%;\n",
       "      cursor: pointer;\n",
       "      display: none;\n",
       "      fill: #1967D2;\n",
       "      height: 32px;\n",
       "      padding: 0 0 0 0;\n",
       "      width: 32px;\n",
       "    }\n",
       "\n",
       "    .colab-df-convert:hover {\n",
       "      background-color: #E2EBFA;\n",
       "      box-shadow: 0px 1px 2px rgba(60, 64, 67, 0.3), 0px 1px 3px 1px rgba(60, 64, 67, 0.15);\n",
       "      fill: #174EA6;\n",
       "    }\n",
       "\n",
       "    [theme=dark] .colab-df-convert {\n",
       "      background-color: #3B4455;\n",
       "      fill: #D2E3FC;\n",
       "    }\n",
       "\n",
       "    [theme=dark] .colab-df-convert:hover {\n",
       "      background-color: #434B5C;\n",
       "      box-shadow: 0px 1px 3px 1px rgba(0, 0, 0, 0.15);\n",
       "      filter: drop-shadow(0px 1px 2px rgba(0, 0, 0, 0.3));\n",
       "      fill: #FFFFFF;\n",
       "    }\n",
       "  </style>\n",
       "\n",
       "      <script>\n",
       "        const buttonEl =\n",
       "          document.querySelector('#df-d6c91007-b2bc-4194-a82d-51cc944bd101 button.colab-df-convert');\n",
       "        buttonEl.style.display =\n",
       "          google.colab.kernel.accessAllowed ? 'block' : 'none';\n",
       "\n",
       "        async function convertToInteractive(key) {\n",
       "          const element = document.querySelector('#df-d6c91007-b2bc-4194-a82d-51cc944bd101');\n",
       "          const dataTable =\n",
       "            await google.colab.kernel.invokeFunction('convertToInteractive',\n",
       "                                                     [key], {});\n",
       "          if (!dataTable) return;\n",
       "\n",
       "          const docLinkHtml = 'Like what you see? Visit the ' +\n",
       "            '<a target=\"_blank\" href=https://colab.research.google.com/notebooks/data_table.ipynb>data table notebook</a>'\n",
       "            + ' to learn more about interactive tables.';\n",
       "          element.innerHTML = '';\n",
       "          dataTable['output_type'] = 'display_data';\n",
       "          await google.colab.output.renderOutput(dataTable, element);\n",
       "          const docLink = document.createElement('div');\n",
       "          docLink.innerHTML = docLinkHtml;\n",
       "          element.appendChild(docLink);\n",
       "        }\n",
       "      </script>\n",
       "    </div>\n",
       "  </div>\n",
       "  "
      ],
      "text/plain": [
       "   Unnamed: 0                            Cleaned Detailed Review  Trust\n",
       "0        1408  nice phone worth money price point else ask th...      1\n",
       "1        1928  smartphone impressed camera battery backup goo...      1\n",
       "2        1409  usual value money device one thing attracts st...      1\n",
       "3           4  best mobile price range battery backup highlig...      1\n",
       "4        1410  quality wise good good performance prize cam q...      1\n",
       "5           1  first would like thank flippant fastest delive...      1\n",
       "6           2  smartphone good camera battery value money sas...      1\n",
       "7         515  nice product fully satisfied thankyou flippant...      1\n",
       "8        1415  using phone three day speed good display cool ...      1\n",
       "9        1463                               super 48 camera like      1"
      ]
     },
     "execution_count": 14,
     "metadata": {},
     "output_type": "execute_result"
    }
   ],
   "source": [
    "#loading dataset\n",
    "df = pd.read_excel('Mobiles.xlsx')  \n",
    "#Viewing dataset\n",
    "df.head(10)  "
   ]
  },
  {
   "cell_type": "code",
   "execution_count": 15,
   "metadata": {
    "colab": {
     "base_uri": "https://localhost:8080/"
    },
    "id": "7Vja47G7DhYe",
    "outputId": "15c7eb8e-e484-4769-ffe7-5cc5c213f8c9"
   },
   "outputs": [
    {
     "data": {
      "text/plain": [
       "(1485, 3)"
      ]
     },
     "execution_count": 15,
     "metadata": {},
     "output_type": "execute_result"
    }
   ],
   "source": [
    "#to  display number of rows and column in our dataset\n",
    "df.shape  "
   ]
  },
  {
   "cell_type": "code",
   "execution_count": 16,
   "metadata": {
    "colab": {
     "base_uri": "https://localhost:8080/"
    },
    "id": "yYwGuGlBPUib",
    "outputId": "46269f8e-95fe-4e47-dd6e-2763831e0653"
   },
   "outputs": [
    {
     "data": {
      "text/plain": [
       "(1482, 3)"
      ]
     },
     "execution_count": 16,
     "metadata": {},
     "output_type": "execute_result"
    }
   ],
   "source": [
    "#removing null comments  from review column\n",
    "df = df[df['Cleaned Detailed Review'].notna()]    \n",
    "df.shape"
   ]
  },
  {
   "cell_type": "code",
   "execution_count": 17,
   "metadata": {
    "id": "L8g6t5V2P6-u"
   },
   "outputs": [],
   "source": [
    "# balancing data in such a way that we are having equal zeros and ones\n",
    "high_review = df[df['Trust']==1]\n",
    "low_review = df[df['Trust']==0]\n",
    "df_high_new = high_review.sample(low_review.shape[0])\n",
    "df= pd.concat([df_high_new, low_review])"
   ]
  },
  {
   "cell_type": "code",
   "execution_count": 18,
   "metadata": {
    "colab": {
     "base_uri": "https://localhost:8080/"
    },
    "id": "MGP01ZU0SNrS",
    "outputId": "8c06b740-4b7b-41cb-e668-1195205d209c"
   },
   "outputs": [
    {
     "data": {
      "text/plain": [
       "1    461\n",
       "0    461\n",
       "Name: Trust, dtype: int64"
      ]
     },
     "execution_count": 18,
     "metadata": {},
     "output_type": "execute_result"
    }
   ],
   "source": [
    "df['Trust'].value_counts()"
   ]
  },
  {
   "cell_type": "code",
   "execution_count": 19,
   "metadata": {
    "id": "dlHV5LP_7koH"
   },
   "outputs": [],
   "source": [
    "#Converting Cleaned detailed review column to a matrix of TF-IDF features\n",
    "from sklearn.feature_extraction.text import TfidfVectorizer\n",
    "tf=TfidfVectorizer()\n",
    "text_tf= tf.fit_transform(df['Cleaned Detailed Review'])  "
   ]
  },
  {
   "cell_type": "code",
   "execution_count": 20,
   "metadata": {
    "colab": {
     "base_uri": "https://localhost:8080/"
    },
    "id": "JqLLEhAS70iB",
    "outputId": "499a070a-4c4c-473c-ae6e-2fcf09744269"
   },
   "outputs": [
    {
     "name": "stdout",
     "output_type": "stream",
     "text": [
      "  (0, 1949)\t0.18794642476234127\n",
      "  (0, 339)\t0.20134292473090376\n",
      "  (0, 2168)\t0.1931595101685539\n",
      "  (0, 336)\t0.1426045228868528\n",
      "  (0, 1613)\t0.21159160676883743\n",
      "  (0, 2171)\t0.20614615425561542\n",
      "  (0, 1985)\t0.29094643939215475\n",
      "  (0, 1984)\t0.1565411674002783\n",
      "  (0, 373)\t0.274411443773709\n",
      "  (0, 549)\t0.23985836848101721\n",
      "  (0, 136)\t0.23985836848101721\n",
      "  (0, 1960)\t0.29094643939215475\n",
      "  (0, 777)\t0.14480940130654424\n",
      "  (0, 1123)\t0.3792223172743394\n",
      "  (0, 1713)\t0.21461375336135458\n",
      "  (0, 1251)\t0.22960968644308355\n",
      "  (0, 841)\t0.09167005033787949\n",
      "  (0, 132)\t0.1453797646871317\n",
      "  (0, 1563)\t0.1140703483020709\n",
      "  (0, 352)\t0.08410688068916461\n",
      "  (0, 1272)\t0.13525892073803725\n",
      "  (0, 1521)\t0.2521390545368142\n",
      "  (1, 91)\t0.37696343279719513\n",
      "  (1, 1668)\t0.37696343279719513\n",
      "  (1, 346)\t0.4776635091158258\n",
      "  :\t:\n",
      "  (919, 1313)\t0.3602454315665648\n",
      "  (919, 1413)\t0.19857557461711714\n",
      "  (920, 1379)\t0.7024902939852987\n",
      "  (920, 1841)\t0.6128120205964158\n",
      "  (920, 1563)\t0.36189613740545307\n",
      "  (921, 935)\t0.2923338634115463\n",
      "  (921, 83)\t0.2547890482964912\n",
      "  (921, 2038)\t0.2639323071845004\n",
      "  (921, 461)\t0.2639323071845004\n",
      "  (921, 295)\t0.21891690560250918\n",
      "  (921, 1060)\t0.21563717291901405\n",
      "  (921, 2098)\t0.2000876675171089\n",
      "  (921, 954)\t0.2355307509574545\n",
      "  (921, 607)\t0.24731846182955508\n",
      "  (921, 872)\t0.17062177133702283\n",
      "  (921, 1794)\t0.19408062178119867\n",
      "  (921, 837)\t0.16958437961535347\n",
      "  (921, 1632)\t0.2639323071845004\n",
      "  (921, 351)\t0.24731846182955508\n",
      "  (921, 242)\t0.21234667919091116\n",
      "  (921, 1413)\t0.1759831441414977\n",
      "  (921, 1805)\t0.19798593584239937\n",
      "  (921, 1190)\t0.18002853456931595\n",
      "  (921, 1017)\t0.17872763850336265\n",
      "  (921, 91)\t0.23070461647460977\n"
     ]
    }
   ],
   "source": [
    "#Displaying matrix form of column \n",
    "print(text_tf)  "
   ]
  },
  {
   "cell_type": "code",
   "execution_count": 21,
   "metadata": {
    "id": "EtpNbQNyA2NN"
   },
   "outputs": [],
   "source": [
    "#splitting data into train and test data using train_test_split\n",
    "from sklearn.model_selection import train_test_split\n",
    "X_train, X_test, y_train, y_test = train_test_split(text_tf, df['Trust'], test_size=0.3, random_state=1,stratify=df['Trust'])"
   ]
  },
  {
   "cell_type": "code",
   "execution_count": 22,
   "metadata": {
    "id": "7oC9oiEK8xTO"
   },
   "outputs": [],
   "source": [
    "#applying MultinomialNB to our data \n",
    "from sklearn.naive_bayes import MultinomialNB\n",
    "from sklearn import metrics\n",
    "#putting traaining data\n",
    "clf = MultinomialNB().fit(X_train, y_train)  \n",
    "y_predicted= clf.predict(X_test)"
   ]
  },
  {
   "cell_type": "code",
   "execution_count": 23,
   "metadata": {
    "colab": {
     "base_uri": "https://localhost:8080/"
    },
    "id": "o_gny6J-CRJb",
    "outputId": "23003c6c-6201-49b2-be08-0fe295d38f4c"
   },
   "outputs": [
    {
     "data": {
      "text/plain": [
       "array([[113,  25],\n",
       "       [ 26, 113]])"
      ]
     },
     "execution_count": 23,
     "metadata": {},
     "output_type": "execute_result"
    }
   ],
   "source": [
    "from sklearn.metrics import confusion_matrix, classification_report\n",
    "cm = confusion_matrix(y_test, y_predicted)\n",
    "cm "
   ]
  },
  {
   "cell_type": "code",
   "execution_count": 24,
   "metadata": {
    "colab": {
     "base_uri": "https://localhost:8080/",
     "height": 279
    },
    "id": "3kreY7nsEwvY",
    "outputId": "a44aaa79-c398-4a0a-9f3d-949c8c4522f8"
   },
   "outputs": [
    {
     "data": {
      "image/png": "[encoded data removed]",
      "text/plain": [
       "<Figure size 432x288 with 2 Axes>"
      ]
     },
     "metadata": {
      "needs_background": "light"
     },
     "output_type": "display_data"
    }
   ],
   "source": [
    "#plotting heatmap\n",
    "sns.heatmap(cm,annot=True, fmt='1', cmap='Blues')\n",
    "plt.xlabel('Predicted')\n",
    "plt.ylabel('Truth')\n",
    "plt.show()"
   ]
  },
  {
   "cell_type": "code",
   "execution_count": 25,
   "metadata": {
    "colab": {
     "base_uri": "https://localhost:8080/"
    },
    "id": "sL5MkYBUHXi-",
    "outputId": "dda985a3-3990-4aec-951f-091c9129c340"
   },
   "outputs": [
    {
     "name": "stdout",
     "output_type": "stream",
     "text": [
      "              precision    recall  f1-score   support\n",
      "\n",
      "           0       0.81      0.82      0.82       138\n",
      "           1       0.82      0.81      0.82       139\n",
      "\n",
      "    accuracy                           0.82       277\n",
      "   macro avg       0.82      0.82      0.82       277\n",
      "weighted avg       0.82      0.82      0.82       277\n",
      "\n"
     ]
    }
   ],
   "source": [
    "print(classification_report(y_test, y_predicted))"
   ]
  },
  {
   "cell_type": "code",
   "execution_count": null,
   "metadata": {
    "id": "rvhSnWqcuut3"
   },
   "outputs": [],
   "source": []
  }
 ],
 "metadata": {
  "colab": {
   "collapsed_sections": [],
   "name": "mobile_tfidf.ipynb",
   "provenance": []
  },
  "kernelspec": {
   "display_name": "Python 3 (ipykernel)",
   "language": "python",
   "name": "python3"
  },
  "language_info": {
   "codemirror_mode": {
    "name": "ipython",
    "version": 3
   },
   "file_extension": ".py",
   "mimetype": "text/x-python",
   "name": "python",
   "nbconvert_exporter": "python",
   "pygments_lexer": "ipython3",
   "version": "3.9.7"
  }
 },
 "nbformat": 4,
 "nbformat_minor": 1
}
